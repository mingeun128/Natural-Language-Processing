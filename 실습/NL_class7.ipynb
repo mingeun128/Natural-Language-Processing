{
  "nbformat": 4,
  "nbformat_minor": 0,
  "metadata": {
    "colab": {
      "provenance": [],
      "collapsed_sections": []
    },
    "kernelspec": {
      "name": "python3",
      "display_name": "Python 3"
    },
    "language_info": {
      "name": "python"
    }
  },
  "cells": [
    {
      "cell_type": "code",
      "execution_count": 168,
      "metadata": {
        "id": "Mt9IoC66JAfM"
      },
      "outputs": [],
      "source": [
        "import pandas as pd\n",
        "from sklearn.datasets import fetch_20newsgroups\n",
        "import nltk\n",
        "from nltk.corpus import stopwords\n",
        "from sklearn.feature_extraction.text import TfidfVectorizer\n",
        "from sklearn.decomposition import TruncatedSVD\n",
        "import numpy as np"
      ]
    },
    {
      "cell_type": "code",
      "source": [
        "nltk.download('all')"
      ],
      "metadata": {
        "colab": {
          "base_uri": "https://localhost:8080/"
        },
        "id": "4nDJ86wtWNSY",
        "outputId": "e8380f63-393a-42cd-b53c-c5e4d28ec024"
      },
      "execution_count": 169,
      "outputs": [
        {
          "output_type": "stream",
          "name": "stderr",
          "text": [
            "[nltk_data] Downloading collection 'all'\n",
            "[nltk_data]    | \n",
            "[nltk_data]    | Downloading package abc to /root/nltk_data...\n",
            "[nltk_data]    |   Package abc is already up-to-date!\n",
            "[nltk_data]    | Downloading package alpino to /root/nltk_data...\n",
            "[nltk_data]    |   Package alpino is already up-to-date!\n",
            "[nltk_data]    | Downloading package averaged_perceptron_tagger to\n",
            "[nltk_data]    |     /root/nltk_data...\n",
            "[nltk_data]    |   Package averaged_perceptron_tagger is already up-\n",
            "[nltk_data]    |       to-date!\n",
            "[nltk_data]    | Downloading package averaged_perceptron_tagger_ru to\n",
            "[nltk_data]    |     /root/nltk_data...\n",
            "[nltk_data]    |   Package averaged_perceptron_tagger_ru is already\n",
            "[nltk_data]    |       up-to-date!\n",
            "[nltk_data]    | Downloading package basque_grammars to\n",
            "[nltk_data]    |     /root/nltk_data...\n",
            "[nltk_data]    |   Package basque_grammars is already up-to-date!\n",
            "[nltk_data]    | Downloading package biocreative_ppi to\n",
            "[nltk_data]    |     /root/nltk_data...\n",
            "[nltk_data]    |   Package biocreative_ppi is already up-to-date!\n",
            "[nltk_data]    | Downloading package bllip_wsj_no_aux to\n",
            "[nltk_data]    |     /root/nltk_data...\n",
            "[nltk_data]    |   Package bllip_wsj_no_aux is already up-to-date!\n",
            "[nltk_data]    | Downloading package book_grammars to\n",
            "[nltk_data]    |     /root/nltk_data...\n",
            "[nltk_data]    |   Package book_grammars is already up-to-date!\n",
            "[nltk_data]    | Downloading package brown to /root/nltk_data...\n",
            "[nltk_data]    |   Package brown is already up-to-date!\n",
            "[nltk_data]    | Downloading package brown_tei to /root/nltk_data...\n",
            "[nltk_data]    |   Package brown_tei is already up-to-date!\n",
            "[nltk_data]    | Downloading package cess_cat to /root/nltk_data...\n",
            "[nltk_data]    |   Package cess_cat is already up-to-date!\n",
            "[nltk_data]    | Downloading package cess_esp to /root/nltk_data...\n",
            "[nltk_data]    |   Package cess_esp is already up-to-date!\n",
            "[nltk_data]    | Downloading package chat80 to /root/nltk_data...\n",
            "[nltk_data]    |   Package chat80 is already up-to-date!\n",
            "[nltk_data]    | Downloading package city_database to\n",
            "[nltk_data]    |     /root/nltk_data...\n",
            "[nltk_data]    |   Package city_database is already up-to-date!\n",
            "[nltk_data]    | Downloading package cmudict to /root/nltk_data...\n",
            "[nltk_data]    |   Package cmudict is already up-to-date!\n",
            "[nltk_data]    | Downloading package comparative_sentences to\n",
            "[nltk_data]    |     /root/nltk_data...\n",
            "[nltk_data]    |   Package comparative_sentences is already up-to-\n",
            "[nltk_data]    |       date!\n",
            "[nltk_data]    | Downloading package comtrans to /root/nltk_data...\n",
            "[nltk_data]    |   Package comtrans is already up-to-date!\n",
            "[nltk_data]    | Downloading package conll2000 to /root/nltk_data...\n",
            "[nltk_data]    |   Package conll2000 is already up-to-date!\n",
            "[nltk_data]    | Downloading package conll2002 to /root/nltk_data...\n",
            "[nltk_data]    |   Package conll2002 is already up-to-date!\n",
            "[nltk_data]    | Downloading package conll2007 to /root/nltk_data...\n",
            "[nltk_data]    |   Package conll2007 is already up-to-date!\n",
            "[nltk_data]    | Downloading package crubadan to /root/nltk_data...\n",
            "[nltk_data]    |   Package crubadan is already up-to-date!\n",
            "[nltk_data]    | Downloading package dependency_treebank to\n",
            "[nltk_data]    |     /root/nltk_data...\n",
            "[nltk_data]    |   Package dependency_treebank is already up-to-date!\n",
            "[nltk_data]    | Downloading package dolch to /root/nltk_data...\n",
            "[nltk_data]    |   Package dolch is already up-to-date!\n",
            "[nltk_data]    | Downloading package europarl_raw to\n",
            "[nltk_data]    |     /root/nltk_data...\n",
            "[nltk_data]    |   Package europarl_raw is already up-to-date!\n",
            "[nltk_data]    | Downloading package extended_omw to\n",
            "[nltk_data]    |     /root/nltk_data...\n",
            "[nltk_data]    |   Package extended_omw is already up-to-date!\n",
            "[nltk_data]    | Downloading package floresta to /root/nltk_data...\n",
            "[nltk_data]    |   Package floresta is already up-to-date!\n",
            "[nltk_data]    | Downloading package framenet_v15 to\n",
            "[nltk_data]    |     /root/nltk_data...\n",
            "[nltk_data]    |   Package framenet_v15 is already up-to-date!\n",
            "[nltk_data]    | Downloading package framenet_v17 to\n",
            "[nltk_data]    |     /root/nltk_data...\n",
            "[nltk_data]    |   Package framenet_v17 is already up-to-date!\n",
            "[nltk_data]    | Downloading package gazetteers to /root/nltk_data...\n",
            "[nltk_data]    |   Package gazetteers is already up-to-date!\n",
            "[nltk_data]    | Downloading package genesis to /root/nltk_data...\n",
            "[nltk_data]    |   Package genesis is already up-to-date!\n",
            "[nltk_data]    | Downloading package gutenberg to /root/nltk_data...\n",
            "[nltk_data]    |   Package gutenberg is already up-to-date!\n",
            "[nltk_data]    | Downloading package ieer to /root/nltk_data...\n",
            "[nltk_data]    |   Package ieer is already up-to-date!\n",
            "[nltk_data]    | Downloading package inaugural to /root/nltk_data...\n",
            "[nltk_data]    |   Package inaugural is already up-to-date!\n",
            "[nltk_data]    | Downloading package indian to /root/nltk_data...\n",
            "[nltk_data]    |   Package indian is already up-to-date!\n",
            "[nltk_data]    | Downloading package jeita to /root/nltk_data...\n",
            "[nltk_data]    |   Package jeita is already up-to-date!\n",
            "[nltk_data]    | Downloading package kimmo to /root/nltk_data...\n",
            "[nltk_data]    |   Package kimmo is already up-to-date!\n",
            "[nltk_data]    | Downloading package knbc to /root/nltk_data...\n",
            "[nltk_data]    |   Package knbc is already up-to-date!\n",
            "[nltk_data]    | Downloading package large_grammars to\n",
            "[nltk_data]    |     /root/nltk_data...\n",
            "[nltk_data]    |   Package large_grammars is already up-to-date!\n",
            "[nltk_data]    | Downloading package lin_thesaurus to\n",
            "[nltk_data]    |     /root/nltk_data...\n",
            "[nltk_data]    |   Package lin_thesaurus is already up-to-date!\n",
            "[nltk_data]    | Downloading package mac_morpho to /root/nltk_data...\n",
            "[nltk_data]    |   Package mac_morpho is already up-to-date!\n",
            "[nltk_data]    | Downloading package machado to /root/nltk_data...\n",
            "[nltk_data]    |   Package machado is already up-to-date!\n",
            "[nltk_data]    | Downloading package masc_tagged to /root/nltk_data...\n",
            "[nltk_data]    |   Package masc_tagged is already up-to-date!\n",
            "[nltk_data]    | Downloading package maxent_ne_chunker to\n",
            "[nltk_data]    |     /root/nltk_data...\n",
            "[nltk_data]    |   Package maxent_ne_chunker is already up-to-date!\n",
            "[nltk_data]    | Downloading package maxent_treebank_pos_tagger to\n",
            "[nltk_data]    |     /root/nltk_data...\n",
            "[nltk_data]    |   Package maxent_treebank_pos_tagger is already up-\n",
            "[nltk_data]    |       to-date!\n",
            "[nltk_data]    | Downloading package moses_sample to\n",
            "[nltk_data]    |     /root/nltk_data...\n",
            "[nltk_data]    |   Package moses_sample is already up-to-date!\n",
            "[nltk_data]    | Downloading package movie_reviews to\n",
            "[nltk_data]    |     /root/nltk_data...\n",
            "[nltk_data]    |   Package movie_reviews is already up-to-date!\n",
            "[nltk_data]    | Downloading package mte_teip5 to /root/nltk_data...\n",
            "[nltk_data]    |   Package mte_teip5 is already up-to-date!\n",
            "[nltk_data]    | Downloading package mwa_ppdb to /root/nltk_data...\n",
            "[nltk_data]    |   Package mwa_ppdb is already up-to-date!\n",
            "[nltk_data]    | Downloading package names to /root/nltk_data...\n",
            "[nltk_data]    |   Package names is already up-to-date!\n",
            "[nltk_data]    | Downloading package nombank.1.0 to /root/nltk_data...\n",
            "[nltk_data]    |   Package nombank.1.0 is already up-to-date!\n",
            "[nltk_data]    | Downloading package nonbreaking_prefixes to\n",
            "[nltk_data]    |     /root/nltk_data...\n",
            "[nltk_data]    |   Package nonbreaking_prefixes is already up-to-date!\n",
            "[nltk_data]    | Downloading package nps_chat to /root/nltk_data...\n",
            "[nltk_data]    |   Package nps_chat is already up-to-date!\n",
            "[nltk_data]    | Downloading package omw to /root/nltk_data...\n",
            "[nltk_data]    |   Package omw is already up-to-date!\n",
            "[nltk_data]    | Downloading package omw-1.4 to /root/nltk_data...\n",
            "[nltk_data]    |   Package omw-1.4 is already up-to-date!\n",
            "[nltk_data]    | Downloading package opinion_lexicon to\n",
            "[nltk_data]    |     /root/nltk_data...\n",
            "[nltk_data]    |   Package opinion_lexicon is already up-to-date!\n",
            "[nltk_data]    | Downloading package panlex_swadesh to\n",
            "[nltk_data]    |     /root/nltk_data...\n",
            "[nltk_data]    |   Package panlex_swadesh is already up-to-date!\n",
            "[nltk_data]    | Downloading package paradigms to /root/nltk_data...\n",
            "[nltk_data]    |   Package paradigms is already up-to-date!\n",
            "[nltk_data]    | Downloading package pe08 to /root/nltk_data...\n",
            "[nltk_data]    |   Package pe08 is already up-to-date!\n",
            "[nltk_data]    | Downloading package perluniprops to\n",
            "[nltk_data]    |     /root/nltk_data...\n",
            "[nltk_data]    |   Package perluniprops is already up-to-date!\n",
            "[nltk_data]    | Downloading package pil to /root/nltk_data...\n",
            "[nltk_data]    |   Package pil is already up-to-date!\n",
            "[nltk_data]    | Downloading package pl196x to /root/nltk_data...\n",
            "[nltk_data]    |   Package pl196x is already up-to-date!\n",
            "[nltk_data]    | Downloading package porter_test to /root/nltk_data...\n",
            "[nltk_data]    |   Package porter_test is already up-to-date!\n",
            "[nltk_data]    | Downloading package ppattach to /root/nltk_data...\n",
            "[nltk_data]    |   Package ppattach is already up-to-date!\n",
            "[nltk_data]    | Downloading package problem_reports to\n",
            "[nltk_data]    |     /root/nltk_data...\n",
            "[nltk_data]    |   Package problem_reports is already up-to-date!\n",
            "[nltk_data]    | Downloading package product_reviews_1 to\n",
            "[nltk_data]    |     /root/nltk_data...\n",
            "[nltk_data]    |   Package product_reviews_1 is already up-to-date!\n",
            "[nltk_data]    | Downloading package product_reviews_2 to\n",
            "[nltk_data]    |     /root/nltk_data...\n",
            "[nltk_data]    |   Package product_reviews_2 is already up-to-date!\n",
            "[nltk_data]    | Downloading package propbank to /root/nltk_data...\n",
            "[nltk_data]    |   Package propbank is already up-to-date!\n",
            "[nltk_data]    | Downloading package pros_cons to /root/nltk_data...\n",
            "[nltk_data]    |   Package pros_cons is already up-to-date!\n",
            "[nltk_data]    | Downloading package ptb to /root/nltk_data...\n",
            "[nltk_data]    |   Package ptb is already up-to-date!\n",
            "[nltk_data]    | Downloading package punkt to /root/nltk_data...\n",
            "[nltk_data]    |   Package punkt is already up-to-date!\n",
            "[nltk_data]    | Downloading package qc to /root/nltk_data...\n",
            "[nltk_data]    |   Package qc is already up-to-date!\n",
            "[nltk_data]    | Downloading package reuters to /root/nltk_data...\n",
            "[nltk_data]    |   Package reuters is already up-to-date!\n",
            "[nltk_data]    | Downloading package rslp to /root/nltk_data...\n",
            "[nltk_data]    |   Package rslp is already up-to-date!\n",
            "[nltk_data]    | Downloading package rte to /root/nltk_data...\n",
            "[nltk_data]    |   Package rte is already up-to-date!\n",
            "[nltk_data]    | Downloading package sample_grammars to\n",
            "[nltk_data]    |     /root/nltk_data...\n",
            "[nltk_data]    |   Package sample_grammars is already up-to-date!\n",
            "[nltk_data]    | Downloading package semcor to /root/nltk_data...\n",
            "[nltk_data]    |   Package semcor is already up-to-date!\n",
            "[nltk_data]    | Downloading package senseval to /root/nltk_data...\n",
            "[nltk_data]    |   Package senseval is already up-to-date!\n",
            "[nltk_data]    | Downloading package sentence_polarity to\n",
            "[nltk_data]    |     /root/nltk_data...\n",
            "[nltk_data]    |   Package sentence_polarity is already up-to-date!\n",
            "[nltk_data]    | Downloading package sentiwordnet to\n",
            "[nltk_data]    |     /root/nltk_data...\n",
            "[nltk_data]    |   Package sentiwordnet is already up-to-date!\n",
            "[nltk_data]    | Downloading package shakespeare to /root/nltk_data...\n",
            "[nltk_data]    |   Package shakespeare is already up-to-date!\n",
            "[nltk_data]    | Downloading package sinica_treebank to\n",
            "[nltk_data]    |     /root/nltk_data...\n",
            "[nltk_data]    |   Package sinica_treebank is already up-to-date!\n",
            "[nltk_data]    | Downloading package smultron to /root/nltk_data...\n",
            "[nltk_data]    |   Package smultron is already up-to-date!\n",
            "[nltk_data]    | Downloading package snowball_data to\n",
            "[nltk_data]    |     /root/nltk_data...\n",
            "[nltk_data]    |   Package snowball_data is already up-to-date!\n",
            "[nltk_data]    | Downloading package spanish_grammars to\n",
            "[nltk_data]    |     /root/nltk_data...\n",
            "[nltk_data]    |   Package spanish_grammars is already up-to-date!\n",
            "[nltk_data]    | Downloading package state_union to /root/nltk_data...\n",
            "[nltk_data]    |   Package state_union is already up-to-date!\n",
            "[nltk_data]    | Downloading package stopwords to /root/nltk_data...\n",
            "[nltk_data]    |   Package stopwords is already up-to-date!\n",
            "[nltk_data]    | Downloading package subjectivity to\n",
            "[nltk_data]    |     /root/nltk_data...\n",
            "[nltk_data]    |   Package subjectivity is already up-to-date!\n",
            "[nltk_data]    | Downloading package swadesh to /root/nltk_data...\n",
            "[nltk_data]    |   Package swadesh is already up-to-date!\n",
            "[nltk_data]    | Downloading package switchboard to /root/nltk_data...\n",
            "[nltk_data]    |   Package switchboard is already up-to-date!\n",
            "[nltk_data]    | Downloading package tagsets to /root/nltk_data...\n",
            "[nltk_data]    |   Package tagsets is already up-to-date!\n",
            "[nltk_data]    | Downloading package timit to /root/nltk_data...\n",
            "[nltk_data]    |   Package timit is already up-to-date!\n",
            "[nltk_data]    | Downloading package toolbox to /root/nltk_data...\n",
            "[nltk_data]    |   Package toolbox is already up-to-date!\n",
            "[nltk_data]    | Downloading package treebank to /root/nltk_data...\n",
            "[nltk_data]    |   Package treebank is already up-to-date!\n",
            "[nltk_data]    | Downloading package twitter_samples to\n",
            "[nltk_data]    |     /root/nltk_data...\n",
            "[nltk_data]    |   Package twitter_samples is already up-to-date!\n",
            "[nltk_data]    | Downloading package udhr to /root/nltk_data...\n",
            "[nltk_data]    |   Package udhr is already up-to-date!\n",
            "[nltk_data]    | Downloading package udhr2 to /root/nltk_data...\n",
            "[nltk_data]    |   Package udhr2 is already up-to-date!\n",
            "[nltk_data]    | Downloading package unicode_samples to\n",
            "[nltk_data]    |     /root/nltk_data...\n",
            "[nltk_data]    |   Package unicode_samples is already up-to-date!\n",
            "[nltk_data]    | Downloading package universal_tagset to\n",
            "[nltk_data]    |     /root/nltk_data...\n",
            "[nltk_data]    |   Package universal_tagset is already up-to-date!\n",
            "[nltk_data]    | Downloading package universal_treebanks_v20 to\n",
            "[nltk_data]    |     /root/nltk_data...\n",
            "[nltk_data]    |   Package universal_treebanks_v20 is already up-to-\n",
            "[nltk_data]    |       date!\n",
            "[nltk_data]    | Downloading package vader_lexicon to\n",
            "[nltk_data]    |     /root/nltk_data...\n",
            "[nltk_data]    |   Package vader_lexicon is already up-to-date!\n",
            "[nltk_data]    | Downloading package verbnet to /root/nltk_data...\n",
            "[nltk_data]    |   Package verbnet is already up-to-date!\n",
            "[nltk_data]    | Downloading package verbnet3 to /root/nltk_data...\n",
            "[nltk_data]    |   Package verbnet3 is already up-to-date!\n",
            "[nltk_data]    | Downloading package webtext to /root/nltk_data...\n",
            "[nltk_data]    |   Package webtext is already up-to-date!\n",
            "[nltk_data]    | Downloading package wmt15_eval to /root/nltk_data...\n",
            "[nltk_data]    |   Package wmt15_eval is already up-to-date!\n",
            "[nltk_data]    | Downloading package word2vec_sample to\n",
            "[nltk_data]    |     /root/nltk_data...\n",
            "[nltk_data]    |   Package word2vec_sample is already up-to-date!\n",
            "[nltk_data]    | Downloading package wordnet to /root/nltk_data...\n",
            "[nltk_data]    |   Package wordnet is already up-to-date!\n",
            "[nltk_data]    | Downloading package wordnet2021 to /root/nltk_data...\n",
            "[nltk_data]    |   Package wordnet2021 is already up-to-date!\n",
            "[nltk_data]    | Downloading package wordnet31 to /root/nltk_data...\n",
            "[nltk_data]    |   Package wordnet31 is already up-to-date!\n",
            "[nltk_data]    | Downloading package wordnet_ic to /root/nltk_data...\n",
            "[nltk_data]    |   Package wordnet_ic is already up-to-date!\n",
            "[nltk_data]    | Downloading package words to /root/nltk_data...\n",
            "[nltk_data]    |   Package words is already up-to-date!\n",
            "[nltk_data]    | Downloading package ycoe to /root/nltk_data...\n",
            "[nltk_data]    |   Package ycoe is already up-to-date!\n",
            "[nltk_data]    | \n",
            "[nltk_data]  Done downloading collection all\n"
          ]
        },
        {
          "output_type": "execute_result",
          "data": {
            "text/plain": [
              "True"
            ]
          },
          "metadata": {},
          "execution_count": 169
        }
      ]
    },
    {
      "cell_type": "markdown",
      "source": [
        "**실습1**"
      ],
      "metadata": {
        "id": "hOMribE5XiL1"
      }
    },
    {
      "cell_type": "code",
      "source": [
        "A = np.array([[0,0,0,1,0,1,1,0,0],[0,0,0,1,1,0,1,0,0],[0,1,1,0,2,0,0,0,0],[1,0,0,0,0,0,0,1,1]])\n",
        "print('DTM의 크기(shape) :', np.shape(A))"
      ],
      "metadata": {
        "colab": {
          "base_uri": "https://localhost:8080/"
        },
        "id": "SaxtyrBZVc8V",
        "outputId": "57084905-08cb-4dba-de71-f34705040044"
      },
      "execution_count": 170,
      "outputs": [
        {
          "output_type": "stream",
          "name": "stdout",
          "text": [
            "DTM의 크기(shape) : (4, 9)\n"
          ]
        }
      ]
    },
    {
      "cell_type": "code",
      "source": [
        "U, s, VT = np.linalg.svd(A, full_matrices = True)\n",
        "print('행렬 U :')\n",
        "print(U.round(2))\n",
        "print('행렬 U의 크기(shape) :',np.shape(U))"
      ],
      "metadata": {
        "colab": {
          "base_uri": "https://localhost:8080/"
        },
        "id": "HYS2aigWVd0g",
        "outputId": "c3b1c9c7-7310-404a-f205-010581e9a9c7"
      },
      "execution_count": 171,
      "outputs": [
        {
          "output_type": "stream",
          "name": "stdout",
          "text": [
            "행렬 U :\n",
            "[[-0.24  0.75  0.   -0.62]\n",
            " [-0.51  0.44 -0.    0.74]\n",
            " [-0.83 -0.49 -0.   -0.27]\n",
            " [-0.   -0.    1.    0.  ]]\n",
            "행렬 U의 크기(shape) : (4, 4)\n"
          ]
        }
      ]
    },
    {
      "cell_type": "code",
      "source": [
        "print('특이값 벡터 :')\n",
        "print(s.round(2))\n",
        "print('특이값 벡터의 크기(shape) :',np.shape(s))"
      ],
      "metadata": {
        "colab": {
          "base_uri": "https://localhost:8080/"
        },
        "id": "mxmiG442Ve4b",
        "outputId": "d4983fd5-4c37-480a-e176-8e03c3474ce8"
      },
      "execution_count": 172,
      "outputs": [
        {
          "output_type": "stream",
          "name": "stdout",
          "text": [
            "특이값 벡터 :\n",
            "[2.69 2.05 1.73 0.77]\n",
            "특이값 벡터의 크기(shape) : (4,)\n"
          ]
        }
      ]
    },
    {
      "cell_type": "code",
      "source": [
        "# 대각 행렬의 크기인 4 x 9의 임의의 행렬 생성\n",
        "S = np.zeros((4, 9))\n",
        "\n",
        "# 특이값을 대각행렬에 삽입\n",
        "S[:4, :4] = np.diag(s)\n",
        "\n",
        "print('대각 행렬 S :')\n",
        "print(S.round(2))\n",
        "\n",
        "print('대각 행렬의 크기(shape) :')\n",
        "print(np.shape(S))"
      ],
      "metadata": {
        "colab": {
          "base_uri": "https://localhost:8080/"
        },
        "id": "qK1AKuNaVgJS",
        "outputId": "d7711678-bd5d-4c24-88c6-13bb4068be6e"
      },
      "execution_count": 173,
      "outputs": [
        {
          "output_type": "stream",
          "name": "stdout",
          "text": [
            "대각 행렬 S :\n",
            "[[2.69 0.   0.   0.   0.   0.   0.   0.   0.  ]\n",
            " [0.   2.05 0.   0.   0.   0.   0.   0.   0.  ]\n",
            " [0.   0.   1.73 0.   0.   0.   0.   0.   0.  ]\n",
            " [0.   0.   0.   0.77 0.   0.   0.   0.   0.  ]]\n",
            "대각 행렬의 크기(shape) :\n",
            "(4, 9)\n"
          ]
        }
      ]
    },
    {
      "cell_type": "code",
      "source": [
        "print('직교행렬 VT :')\n",
        "print(VT.round(2))\n",
        "\n",
        "print('직교 행렬 VT의 크기(shape) :')\n",
        "print(np.shape(VT))"
      ],
      "metadata": {
        "colab": {
          "base_uri": "https://localhost:8080/"
        },
        "id": "gLhaBBd4Vhsa",
        "outputId": "ed1a4423-80fc-4e70-e388-d696ca54cf6b"
      },
      "execution_count": 174,
      "outputs": [
        {
          "output_type": "stream",
          "name": "stdout",
          "text": [
            "직교행렬 VT :\n",
            "[[-0.   -0.31 -0.31 -0.28 -0.8  -0.09 -0.28 -0.   -0.  ]\n",
            " [ 0.   -0.24 -0.24  0.58 -0.26  0.37  0.58 -0.   -0.  ]\n",
            " [ 0.58 -0.    0.    0.   -0.    0.   -0.    0.58  0.58]\n",
            " [ 0.   -0.35 -0.35  0.16  0.25 -0.8   0.16 -0.   -0.  ]\n",
            " [-0.   -0.78 -0.01 -0.2   0.4   0.4  -0.2   0.    0.  ]\n",
            " [-0.29  0.31 -0.78 -0.24  0.23  0.23  0.01  0.14  0.14]\n",
            " [-0.29 -0.1   0.26 -0.59 -0.08 -0.08  0.66  0.14  0.14]\n",
            " [-0.5  -0.06  0.15  0.24 -0.05 -0.05 -0.19  0.75 -0.25]\n",
            " [-0.5  -0.06  0.15  0.24 -0.05 -0.05 -0.19 -0.25  0.75]]\n",
            "직교 행렬 VT의 크기(shape) :\n",
            "(9, 9)\n"
          ]
        }
      ]
    },
    {
      "cell_type": "code",
      "source": [
        "np.allclose(A, np.dot(np.dot(U,S), VT).round(2))"
      ],
      "metadata": {
        "colab": {
          "base_uri": "https://localhost:8080/"
        },
        "id": "hP1kdzLJVjPA",
        "outputId": "5ca023e0-697f-4e85-a6c2-5e2a3b7e59c2"
      },
      "execution_count": 175,
      "outputs": [
        {
          "output_type": "execute_result",
          "data": {
            "text/plain": [
              "True"
            ]
          },
          "metadata": {},
          "execution_count": 175
        }
      ]
    },
    {
      "cell_type": "code",
      "source": [
        "U = U[:,:2]\n",
        "print('행렬 U :')\n",
        "print(U.round(2))"
      ],
      "metadata": {
        "colab": {
          "base_uri": "https://localhost:8080/"
        },
        "id": "XVfVVkziVlZy",
        "outputId": "35b75fe2-fa60-4577-dbf9-13be7ee032f4"
      },
      "execution_count": 176,
      "outputs": [
        {
          "output_type": "stream",
          "name": "stdout",
          "text": [
            "행렬 U :\n",
            "[[-0.24  0.75]\n",
            " [-0.51  0.44]\n",
            " [-0.83 -0.49]\n",
            " [-0.   -0.  ]]\n"
          ]
        }
      ]
    },
    {
      "cell_type": "code",
      "source": [
        "VT = VT[:2,:]\n",
        "print('직교행렬 VT :')\n",
        "print(VT.round(2))"
      ],
      "metadata": {
        "colab": {
          "base_uri": "https://localhost:8080/"
        },
        "id": "pqxT6BRBVmz4",
        "outputId": "65ae292b-4fc9-4d68-eca1-163bdb09b5c8"
      },
      "execution_count": 177,
      "outputs": [
        {
          "output_type": "stream",
          "name": "stdout",
          "text": [
            "직교행렬 VT :\n",
            "[[-0.   -0.31 -0.31 -0.28 -0.8  -0.09 -0.28 -0.   -0.  ]\n",
            " [ 0.   -0.24 -0.24  0.58 -0.26  0.37  0.58 -0.   -0.  ]]\n"
          ]
        }
      ]
    },
    {
      "cell_type": "code",
      "source": [
        "dataset = fetch_20newsgroups(shuffle=True, random_state=1, remove=('headers', 'footers', 'quotes'))\n",
        "documents = dataset.data\n",
        "print('샘플의 수 :',len(documents))"
      ],
      "metadata": {
        "colab": {
          "base_uri": "https://localhost:8080/"
        },
        "id": "PUBI_6dHUBse",
        "outputId": "d75d3947-3cf0-401e-cf76-183c672f5062"
      },
      "execution_count": 178,
      "outputs": [
        {
          "output_type": "stream",
          "name": "stdout",
          "text": [
            "샘플의 수 : 11314\n"
          ]
        }
      ]
    },
    {
      "cell_type": "code",
      "source": [
        "documents[1]"
      ],
      "metadata": {
        "colab": {
          "base_uri": "https://localhost:8080/",
          "height": 72
        },
        "id": "rQWHrj9IUIxC",
        "outputId": "cc32323a-e451-48ab-e32c-285ad848331e"
      },
      "execution_count": 179,
      "outputs": [
        {
          "output_type": "execute_result",
          "data": {
            "text/plain": [
              "\"\\n\\n\\n\\n\\n\\n\\nYeah, do you expect people to read the FAQ, etc. and actually accept hard\\natheism?  No, you need a little leap of faith, Jimmy.  Your logic runs out\\nof steam!\\n\\n\\n\\n\\n\\n\\n\\nJim,\\n\\nSorry I can't pity you, Jim.  And I'm sorry that you have these feelings of\\ndenial about the faith you need to get by.  Oh well, just pretend that it will\\nall end happily ever after anyway.  Maybe if you start a new newsgroup,\\nalt.atheist.hard, you won't be bummin' so much?\\n\\n\\n\\n\\n\\n\\nBye-Bye, Big Jim.  Don't forget your Flintstone's Chewables!  :) \\n--\\nBake Timmons, III\""
            ],
            "application/vnd.google.colaboratory.intrinsic+json": {
              "type": "string"
            }
          },
          "metadata": {},
          "execution_count": 179
        }
      ]
    },
    {
      "cell_type": "code",
      "source": [
        "print(dataset.target_names)"
      ],
      "metadata": {
        "colab": {
          "base_uri": "https://localhost:8080/"
        },
        "id": "IEJFz-byUKki",
        "outputId": "2fe62ded-db3e-4844-83dc-f2258989a33a"
      },
      "execution_count": 180,
      "outputs": [
        {
          "output_type": "stream",
          "name": "stdout",
          "text": [
            "['alt.atheism', 'comp.graphics', 'comp.os.ms-windows.misc', 'comp.sys.ibm.pc.hardware', 'comp.sys.mac.hardware', 'comp.windows.x', 'misc.forsale', 'rec.autos', 'rec.motorcycles', 'rec.sport.baseball', 'rec.sport.hockey', 'sci.crypt', 'sci.electronics', 'sci.med', 'sci.space', 'soc.religion.christian', 'talk.politics.guns', 'talk.politics.mideast', 'talk.politics.misc', 'talk.religion.misc']\n"
          ]
        }
      ]
    },
    {
      "cell_type": "code",
      "source": [
        "news_df = pd.DataFrame({'document':documents})\n",
        "# 특수 문자 제거\n",
        "news_df['clean_doc'] = news_df['document'].str.replace(\"[^a-zA-Z]\", \" \")\n",
        "# 길이가 3이하인 단어는 제거 (길이가 짧은 단어 제거)\n",
        "news_df['clean_doc'] = news_df['clean_doc'].apply(lambda x: ' '.join([w for w in x.split() if len(w)>3]))\n",
        "# 전체 단어에 대한 소문자 변환\n",
        "news_df['clean_doc'] = news_df['clean_doc'].apply(lambda x: x.lower())"
      ],
      "metadata": {
        "colab": {
          "base_uri": "https://localhost:8080/"
        },
        "id": "oCuWw_1XULxg",
        "outputId": "9ba7329a-ce0f-487d-c90b-7846976dade4"
      },
      "execution_count": 181,
      "outputs": [
        {
          "output_type": "stream",
          "name": "stderr",
          "text": [
            "/usr/local/lib/python3.7/dist-packages/ipykernel_launcher.py:3: FutureWarning: The default value of regex will change from True to False in a future version.\n",
            "  This is separate from the ipykernel package so we can avoid doing imports until\n"
          ]
        }
      ]
    },
    {
      "cell_type": "code",
      "source": [
        "news_df['clean_doc'][1]"
      ],
      "metadata": {
        "colab": {
          "base_uri": "https://localhost:8080/",
          "height": 54
        },
        "id": "V6a5vqAOUM40",
        "outputId": "83e010f3-9f00-45f7-c144-611b56913e52"
      },
      "execution_count": 182,
      "outputs": [
        {
          "output_type": "execute_result",
          "data": {
            "text/plain": [
              "'yeah expect people read actually accept hard atheism need little leap faith jimmy your logic runs steam sorry pity sorry that have these feelings denial about faith need well just pretend that will happily ever after anyway maybe start newsgroup atheist hard bummin much forget your flintstone chewables bake timmons'"
            ],
            "application/vnd.google.colaboratory.intrinsic+json": {
              "type": "string"
            }
          },
          "metadata": {},
          "execution_count": 182
        }
      ]
    },
    {
      "cell_type": "code",
      "source": [
        "# NLTK로부터 불용어를 받아온다.\n",
        "stop_words = stopwords.words('english')\n",
        "tokenized_doc = news_df['clean_doc'].apply(lambda x: x.split()) # 토큰화\n",
        "tokenized_doc = tokenized_doc.apply(lambda x: [item for item in x if item not in stop_words])\n",
        "# 불용어를 제거합니다."
      ],
      "metadata": {
        "id": "wYJiGp_GUOcT"
      },
      "execution_count": 183,
      "outputs": []
    },
    {
      "cell_type": "code",
      "source": [
        "print(tokenized_doc[1])"
      ],
      "metadata": {
        "colab": {
          "base_uri": "https://localhost:8080/"
        },
        "id": "_AXfpNnmUQFx",
        "outputId": "db1ccd18-c7c2-4870-b6e5-a30732ff8d40"
      },
      "execution_count": 184,
      "outputs": [
        {
          "output_type": "stream",
          "name": "stdout",
          "text": [
            "['yeah', 'expect', 'people', 'read', 'actually', 'accept', 'hard', 'atheism', 'need', 'little', 'leap', 'faith', 'jimmy', 'logic', 'runs', 'steam', 'sorry', 'pity', 'sorry', 'feelings', 'denial', 'faith', 'need', 'well', 'pretend', 'happily', 'ever', 'anyway', 'maybe', 'start', 'newsgroup', 'atheist', 'hard', 'bummin', 'much', 'forget', 'flintstone', 'chewables', 'bake', 'timmons']\n"
          ]
        }
      ]
    },
    {
      "cell_type": "code",
      "source": [
        "detokenized_doc = []\n",
        "for i in range(len(news_df)):\n",
        "    t = ' '.join(tokenized_doc[i])\n",
        "    detokenized_doc.append(t)\n",
        "\n",
        "news_df['clean_doc'] = detokenized_doc"
      ],
      "metadata": {
        "id": "B_VqBfEOTZop"
      },
      "execution_count": 185,
      "outputs": []
    },
    {
      "cell_type": "code",
      "source": [
        "news_df['clean_doc'][1]"
      ],
      "metadata": {
        "colab": {
          "base_uri": "https://localhost:8080/",
          "height": 54
        },
        "id": "mD9Zx_BrTaOv",
        "outputId": "cceb7c88-9256-4a71-ab11-434fa64abcfb"
      },
      "execution_count": 186,
      "outputs": [
        {
          "output_type": "execute_result",
          "data": {
            "text/plain": [
              "'yeah expect people read actually accept hard atheism need little leap faith jimmy logic runs steam sorry pity sorry feelings denial faith need well pretend happily ever anyway maybe start newsgroup atheist hard bummin much forget flintstone chewables bake timmons'"
            ],
            "application/vnd.google.colaboratory.intrinsic+json": {
              "type": "string"
            }
          },
          "metadata": {},
          "execution_count": 186
        }
      ]
    },
    {
      "cell_type": "code",
      "source": [
        "vectorizer = TfidfVectorizer(stop_words='english', max_features= 1000, # 상위 1,000개의 단어를 보존 \n",
        "max_df = 0.5, smooth_idf=True)\n",
        "\n",
        "X = vectorizer.fit_transform(news_df['clean_doc'])\n",
        "\n",
        "# TF-IDF 행렬의 크기 확인\n",
        "print('TF-IDF 행렬의 크기 :',X.shape)"
      ],
      "metadata": {
        "colab": {
          "base_uri": "https://localhost:8080/"
        },
        "id": "ne1xXsQsTb5s",
        "outputId": "032ac694-32f4-4073-a506-87b5e817b57d"
      },
      "execution_count": 187,
      "outputs": [
        {
          "output_type": "stream",
          "name": "stdout",
          "text": [
            "TF-IDF 행렬의 크기 : (11314, 1000)\n"
          ]
        }
      ]
    },
    {
      "cell_type": "code",
      "source": [
        "svd_model = TruncatedSVD(n_components=20, algorithm='randomized', n_iter=100, random_state=122)\n",
        "svd_model.fit(X)\n",
        "len(svd_model.components_)"
      ],
      "metadata": {
        "colab": {
          "base_uri": "https://localhost:8080/"
        },
        "id": "18JYYicXTdeA",
        "outputId": "ad6b56bf-70c9-4b5a-9a59-6cfc9730012e"
      },
      "execution_count": 188,
      "outputs": [
        {
          "output_type": "execute_result",
          "data": {
            "text/plain": [
              "20"
            ]
          },
          "metadata": {},
          "execution_count": 188
        }
      ]
    },
    {
      "cell_type": "code",
      "source": [
        "np.shape(svd_model.components_)"
      ],
      "metadata": {
        "colab": {
          "base_uri": "https://localhost:8080/"
        },
        "id": "8U7sDSC1Tes0",
        "outputId": "ab57acc2-05a2-4c27-eb6f-e9368407bab7"
      },
      "execution_count": 189,
      "outputs": [
        {
          "output_type": "execute_result",
          "data": {
            "text/plain": [
              "(20, 1000)"
            ]
          },
          "metadata": {},
          "execution_count": 189
        }
      ]
    },
    {
      "cell_type": "code",
      "source": [
        "terms = vectorizer.get_feature_names() # 단어 집합. 1,000개의 단어가 저장됨.\n",
        "\n",
        "def get_topics(components, feature_names, n=5):\n",
        "    for idx, topic in enumerate(components):\n",
        "        print(\"Topic %d:\" % (idx+1), [(feature_names[i], topic[i].round(5)) for i in topic.argsort()[:-n - 1:-1]])\n",
        "get_topics(svd_model.components_,terms)"
      ],
      "metadata": {
        "colab": {
          "base_uri": "https://localhost:8080/"
        },
        "id": "aksCOZtQTiiY",
        "outputId": "1bdaec6f-3393-4981-fa8e-617f3db4037c"
      },
      "execution_count": 190,
      "outputs": [
        {
          "output_type": "stream",
          "name": "stdout",
          "text": [
            "Topic 1: [('like', 0.21386), ('know', 0.20046), ('people', 0.19293), ('think', 0.17805), ('good', 0.15128)]\n",
            "Topic 2: [('thanks', 0.32888), ('windows', 0.29088), ('card', 0.18069), ('drive', 0.17455), ('mail', 0.15111)]\n",
            "Topic 3: [('game', 0.37064), ('team', 0.32443), ('year', 0.28154), ('games', 0.2537), ('season', 0.18419)]\n",
            "Topic 4: [('drive', 0.53324), ('scsi', 0.20165), ('hard', 0.15628), ('disk', 0.15578), ('card', 0.13994)]\n",
            "Topic 5: [('windows', 0.40399), ('file', 0.25436), ('window', 0.18044), ('files', 0.16078), ('program', 0.13894)]\n",
            "Topic 6: [('chip', 0.16114), ('government', 0.16009), ('mail', 0.15625), ('space', 0.1507), ('information', 0.13562)]\n",
            "Topic 7: [('like', 0.67086), ('bike', 0.14236), ('chip', 0.11169), ('know', 0.11139), ('sounds', 0.10371)]\n",
            "Topic 8: [('card', 0.46633), ('video', 0.22137), ('sale', 0.21266), ('monitor', 0.15463), ('offer', 0.14643)]\n",
            "Topic 9: [('know', 0.46047), ('card', 0.33605), ('chip', 0.17558), ('government', 0.1522), ('video', 0.14356)]\n",
            "Topic 10: [('good', 0.42756), ('know', 0.23039), ('time', 0.1882), ('bike', 0.11406), ('jesus', 0.09027)]\n",
            "Topic 11: [('think', 0.78469), ('chip', 0.10899), ('good', 0.10635), ('thanks', 0.09123), ('clipper', 0.07946)]\n",
            "Topic 12: [('thanks', 0.36824), ('good', 0.22729), ('right', 0.21559), ('bike', 0.21037), ('problem', 0.20894)]\n",
            "Topic 13: [('good', 0.36212), ('people', 0.33985), ('windows', 0.28385), ('know', 0.26232), ('file', 0.18422)]\n",
            "Topic 14: [('space', 0.39946), ('think', 0.23258), ('know', 0.18074), ('nasa', 0.15174), ('problem', 0.12957)]\n",
            "Topic 15: [('space', 0.31613), ('good', 0.3094), ('card', 0.22603), ('people', 0.17476), ('time', 0.14496)]\n",
            "Topic 16: [('people', 0.48156), ('problem', 0.19961), ('window', 0.15281), ('time', 0.14664), ('game', 0.12871)]\n",
            "Topic 17: [('time', 0.34465), ('bike', 0.27303), ('right', 0.25557), ('windows', 0.1997), ('file', 0.19118)]\n",
            "Topic 18: [('time', 0.5973), ('problem', 0.15504), ('file', 0.14956), ('think', 0.12847), ('israel', 0.10903)]\n",
            "Topic 19: [('file', 0.44163), ('need', 0.26633), ('card', 0.18388), ('files', 0.17453), ('right', 0.15448)]\n",
            "Topic 20: [('problem', 0.33006), ('file', 0.27651), ('thanks', 0.23578), ('used', 0.19206), ('space', 0.13185)]\n"
          ]
        }
      ]
    },
    {
      "cell_type": "markdown",
      "source": [
        "**실습2**"
      ],
      "metadata": {
        "id": "1dXUpRSmXmUV"
      }
    },
    {
      "cell_type": "code",
      "source": [
        "DOCUMENT = \"\"\"\n",
        "조선 시대 중엽, 전라도 전주 서문 밖에 최만춘이라는 한 퇴직 관리가 아내 조씨와 이십여 년을 같이 살아왔건만 슬하에 자식이 없어 근심하며 기도와 불공도 하고 곤궁한 사람에게 적선도 하였는데, 그러는 사이에 하늘이 감동하였는지 하루는 부부가 신기한 꿈을 얻고 이내 부인에게 태기가 있었다.\n",
        " \n",
        "열 달이 차자 갑자기 그윽한 향기가 방 안에 감돌며 문득 한 옥녀를 낳았으니, 딸아이의 이름을 콩쥐라 지어 애지중지 길렀다. 그러나 그 모친의 천명이 그만이었던지 조물주의 시기함인지 콩쥐가 태어난 지 겨 백일 만에 조씨 부인이 세상을 하직하게 되니, 최만춘은 뜻하지 않게 중년에 홀아비 신세가 되어 버렸다.\n",
        " \n",
        "만춘은 외롭고 쓸쓸할 때면 죽은 아내를 생각하여 눈물을 흘리며 어린 콩쥐를 안고 다니면서 동네 아낙네들의 젖을 얻어먹였다. 그러나 하루 이틀도 아니고 일 년을 그랬으니 그 고생이 어떠하였을 것인가? 철 모르는 콩쥐가 젖 찾는 소리를 죽은 어미의 혼이 만약 있어 들었다면 그 흘리는 눈물이 변하여 비라도 되었으리라.\n",
        " \n",
        "하루는 콩쥐가 으슥한 깊은 밤에 빈 방에서 두 팔을 허우적거리며 어미를 찾으니 최만춘의 마음은 그대로 녹는 듯하였다. 그러나 그런 고생도 한 해가 가고 두 해가 가니, 쉬지 않고 흐르는 것이 세월이라, 어린 콩쥐의 나이 십여 세에 이르게 되었다. 그러자 오히려 이제는 고생이 호강으로 바뀌어 그 딸이 지은 밥을 먹고 그 딸이 지은 옷을 입게 된 것이다.\n",
        " \n",
        "콩쥐가 열네 살이 되던 해에 최만춘은 배씨라는 과부를 얻어 금실의 즐거움을 얻게 되었다. 그리하여 최만춘은 모든 집안일을 배씨에게 맡기고 살림이 어떻게 되어 가는지 몰랐다. 이 때부터 콩쥐는 남 모르게 고생을 하게 되었고 설움이 아니면 날을 보내지 못하는 신세가 된 것이다.\n",
        " \n",
        "원래 배씨는 시집을 갔다가 팥쥐라는 딸 하나를 낳은 후 남편을 여의고 과부가 되었는데, 좋은 중매로 최씨의 가문에 들어온 터였다. 그러나 천성이 요사 간악 사특하였으며, 그 딸 팥쥐 역시 마음이 곱지 못하고 얼굴조차 덕스럽지 못하였다. 그런만큼 터무니없는 모함으로 고자질하기가 일쑤요, 콩쥐가 못 되는 것을 자기가 잘 되는 것보다 상쾌하게 생각하였다. 그리하여 모녀 사이에 소곤거림이 그치면 콩쥐의 신변에는 참혹한 일이 벌어졌으나 그 부친은 한번 배씨가 눈에 든 다음부터는 배씨의 말이라면 팥으로 매주를 쑨다 해도 곧이듣게 되니, 허물없는 콩쥐를 오히려 구박하여 마지아니하였다.\n",
        " \n",
        "하루는 배씨가 두 딸을 불러 놓고,\n",
        " \n",
        "\"시골 사는 계집애가 농사일을 몰라서는 목구멍에 밥알이 들어가지 않으니 콩쥐는 오늘부터 들판으로 김을 매러 다녀라. 팥쥐는 너보다 한 살 덜 먹었고 아직 어린것이라 어찌 김을 맬 수 있으랴만 그렇다고 집에 있으면 콩쥐가 제 자식만 사랑한다 할 것이니, 팥쥐 너도 오늘부터 김을 매러 다니도록 해라.\"\n",
        " \n",
        "하고 팥쥐에게는 쇠호미를 주어 집 근처 모래밭을 매게 하고, 콩쥐에게는 나무호미를 주어 산비탈에 있는 자갈밭을 매게 하는 것이었다.\n",
        " \n",
        "콩쥐는 점심도 얻어먹지 못하고 호미도 나무로 만든 것이라 밭 한 고랑도 못 매어서 목이 부러져 버리니, 마음씨 나쁜 계모로 말미암아 기를 펴지 못하는 콩쥐의 마음이야 어찌 다 형언할 수 있으랴? 집에 돌아가면 호미를 부러뜨린 것도 죄목이 될 것이며 김을 얼마 매지 못한 것도 허물이 될 터이니 저녁은 별수없이 굶게 될 형편이다. 어리고 약한 마음에 천지가 아득하여져 어찌할 줄을 모르고 울고만 있었다.\n",
        " \n",
        "그럴 즈음 홀연히 하늘에서 검은 소 한 마리가 내려오더니 콩쥐를 보고 묻는 것이었다.\n",
        " \n",
        "\"너는 무슨 일이 있기에 그토록 우는냐? 내게 자세한 이야기를 해 보아라.\"\n",
        " \n",
        "콩쥐가 전후 일을 이야기하자 검은소가 말하였다.\n",
        " \n",
        "\"그렇다면 너는 곧장 하탕에 가서 발 씻고, 중탕에 가서 손 씻고, 상탕에 가서 낯 씻고 오너라.\"\n",
        " \n",
        "콩쥐는 그 말대로 손발과 얼굴을 씻고 한참 후에 돌아왔다. 그러자 검은 소는 좋은 호미와 온갖 과실을 치마폭에 싸 주고는 홀연히 사라져 버리는 것이었다.\n",
        " \n",
        "콩쥐는 그것을 받았으나 아버지께도 보여 드리고 어머니께도 이야기하며 팥쥐와도 똑같이 나누어 먹겠다는 생각으로 하나도 입에 넣지 않았다. 그리고 잠시 동안에 몇 마지기 밭을 매어 놓고 집으로 돌아왔다. 그러나 벌써 문은 굳게 닫혀 있었고, 안에서는 저녁밥을 지어 팥쥐와 함께 앉아 맛있게 먹고 있는 것 같았다.\n",
        " \n",
        "콩쥐는 과실을 문 틈으로 죄다 들이밀고서야 안으로 들어갈 수 있었다. 그러나 그것뿐이라면 오히려 괜찮겠으나 통째로 빼앗긴 그 과실로 말미암아 도리어 콩쥐의 신상에 큰 액운이 덮치게 되었다. 대번에 배씨의 호령이 떨어졌던 것이다.\n",
        " \n",
        "\"콩쥐야, 이 년! 이리 오너라. 네 이 년, 어른이 시켜서 김인지 뭔지 매러 갔으면 일찍 마치고 돌아와서 밥도 먹고 또 다른 일도 해야 할 게 아니야, 그래 여태껏 무엇을 했느냐? 그리고 과실은 어디서 났단 말이냐? 이게 분명 불공에 쓰는 과실 같은데 저 년이 분명 아무 절 중놈에게 얻은 것이지!\n",
        "\n",
        "네 그렇지 않고서야 어디서 났단 말이냐? 계집애년이 나이 열댓살 가까워오니까 벌써부터 지나가는 행인을 홀려 먹는단 말이냐? 이런 일을 너의 아버지께서 알아 봐라! 큰일이 나지 않겠느냐? 얘 팥쥐야. 이걸 빨리 먹어 버리고 아버지 눈에 띄지 않게 해라.눈에 띄는 날이면 언니 년은 죽는 날이다. 언니는 실컷 먹었을 터이니 그만두고 너나 얼른 먹어치워라.\"\n",
        " \n",
        "콩쥐는 밥도 얻어먹지 못하고 그 날 밤을 눈물로 새웠다.\n",
        " \n",
        "그로부터 콩쥐에게는 뜻밖의 일과 새로운 고생만이 끊임없이 닥쳐왔다. 하루는 계모 배씨가 콩쥐에게 새로운 일을 시키는 것이었다.\n",
        " \n",
        "\"오늘은 부엌의 빈 독에 물을 길어다 채워 놓아라.\"\n",
        " \n",
        "콩쥐는 그 말대로 물을 길어다 부었다. 그러나 아무리 길어다 부어도 어찌된 독인지 차지를 않았다. 아침부터 진종일 물을 길어 나르다 보니 기운이 빠져서 진땀이 흐르고 고개가 부러지는 것만 같아서 더 물을 길을 수가 없었다. 그렇다고 물을 채우지 않을 수는 없었다. 그래 다시 방구리를 머리에 얹고 우물로 가려는데 마당 한쪽에서 맷방석만한 두꺼비 한 마리가 엉금엉금 기어오더니 버럭 소리를 질러 말하는 것이었다.\n",
        " \n",
        "\"콩쥐야, 콩쥐야. 네 암만 물을 길어 부어도 그 독은 밑빠진 독이라 결코 차지 않을 테니 그렇게 혼자 애쓰지 말고 이르는 대로 해라. 그 옥의 틈이 손가락 하나 들락거릴 만하다. 네가 그 독을 조금 기울여 주면 내가 그 속에 들어가 한동안 수단을 부리겠다.\"\n",
        " \n",
        "그러나 콩쥐는 백 번 사양하며 듣지 않았다.\n",
        " \n",
        "\"내가 타고난 고생을 어찌 남에게 미룰 수 있겠니?\"\n",
        " \n",
        "그러자 두꺼비가 성을 버럭 냈다.\n",
        " \n",
        "\"나도 그런 생각이 없는 바는 아니나 너같이 마음씨 고운 아이를 너의 계모가 일부러 고생시키려고 하는 것이다. 그런데 나로 말하면 인간과 인연이 깊어 몇백 년 나이를 누리며 살아오고 있는 터이므로 나 같은 늙은 것이 그와 같은 일을 돌보지 않을 수가 없어서 각별히 온 것이다. 그런데 네가 어찌 거절하여 이 늙은 것의 깊은 뜻을 업신여기느냐?\"\n",
        " \n",
        "이에 콩쥐는 사례하고 그 물독을 기울여 두꺼비가 엉금엉금 기어 그 밑으로 들어가게 해 주었다. 그리고 독을 바로잡아 놓은 다음 물을 길어다 부으니, 과연 몇 차례 안 해서 독에 물이 가득 찼으므로 계모 배씨에게 물독을 채웠노라고 아뢰니, 배씨는 겉으로 좋아하는 모양을 보였으나 속으로는 이상한 생각을 품지 않을 수 없었다.\n",
        " \n",
        "\"저것이 일전에도 난데없는 과실을 얻어오는 게 수상하더니 이번엔 밑빠진 독에 물을 채워 놓았으니, 아무래도 저 년을 그냥 두었다간 큰일나겠다. 도대체 저 년이 어떻게 된 계집애이기에 남이 할 수 없는 일을 해내는 것일까?\"\n",
        " \n",
        "그러구려 세월을 보내는데 콩쥐의 외갓집 조씨 댁에서 무슨 잔치가 있어 콩쥐를 불렀다. 그러자 염치도 없고 인사도 모르는 계모 배씨는 큰 마누라 본가 잔치에 무슨 체면으로 나서려는지 콩쥐는 젖혀 놓고 제가 먼저 날뛰는 것이었다.\n",
        " \n",
        "\"콩쥐야, 너는 집이나 보도록 해라. 내가 잠시 다녀올 테니 만약 너도 가고 싶거든 베짜던 것이나 마치고 말리던 *겉피 석 섬만 찧어 놓고 오도록 해라.\"\n",
        " \n",
        "그리고는 비단 저고리를 꺼내 입고 싸두었던 *진신을 꺼내 신고 한동안 수선을 피우며 맵시를 내더니 팥쥐만 데리고 떠났다.\n",
        " \n",
        "하는 수 없이 콩쥐는 혼자 처져서 눈물을 흘리며 겉피 석 섬을 마당에 널어 놓고 베틀 위에 올라앉아서 짤깍짤깍 짜기를 시작하였다. 그러나 무슨 재주로 한 필 베를 짜며 석 섬 겉피를 찧으랴? 콩쥐는 얼마나 울었던지 정신을 못 차릴 지경이었다. 그런데 이게 웬일인가? 콩쥐가 한 번도 보지 못한 예쁜 여인이 찬란한 비단옷을 곱게 차려 입고 신기한 향내를 풍기며 뚜렷한 모습으로 베틀 앞에 다가서며 콩쥐를 보고 베틀에서 내려오기를 재촉하는 것이었다.\n",
        " \n",
        "\"내가 비록 재주는 없으나 베틀을 빌린다면 당장에 짜 낼 것이니 아가씨는 곧 떠날 차비를 하도록 하오.\"\n",
        " \n",
        "콩쥐가 베틀에서 내려오자 부인은 베틀에 올라앉더니 알마 안 가서 짜던 것을 다 마치고 베틀에서 내려오며 말하였다.\n",
        " \n",
        "\"아가씨, 이제 일이 끝났으니 어서 외가에 가시오. 또한 도중에서 좋은 기회도 있을 테니 되도록 견디어 보면 차차 고생을 면하고 호강을 누리게 될지도 모르는 일이오.\"\n",
        " \n",
        "그러고는 한 비단 보자기를 풀어 헤치더니 새로 지은 옷 한 벌과 댕기와 신발까지 새것을 내주면서,\n",
        " \n",
        "\"나는 하늘에셔 내려온 직녀로서 상제의 허락을 받고 이와 같이 왔으니 오래도록 머물지 못하오.\"\n",
        " \n",
        "하고는 얼른 몸을 나려 공중으로 날아가는 것이었다.\n",
        " \n",
        "넋을 잃고 바라보던 콩쥐가 가까스로 정신을 차려 막대기를 집어 들고 일어나서 마당으로 내려가자, 아까부터 겉피 위에 앉아서 겉피를 쪼아 먹던 새 떼가 훌쩍 날아가 버리는데 겉피는 알맹이가 되어 그대로 남아 있었다. 알고 보니 새 떼는 겉피를 쪼아 먹은 게 아니라 껍질을 벗겨 놓았던 것이다.\n",
        " \n",
        "여기서 콩쥐는 건넛마을 외갓집 잔치를 보러 가는데, 때는 바야흐로 춘삼월 좋은 계절이라 여러 가지 아름다운꽃이 모두 스스로 웃기를 마지아니하고 나는 새와 다른 짐승도 각기 그 즐거움을 누리고 있었다. 콩쥐는 또 한 그윽한 감회가 스스로 서려 나는 나비를 희롱하며 웃기도 하고 꽃도 탐내며 두서없는 생각에 잠겨 가는 중에 어느 시냇가에 다다르니 물도 맑고 고기가 떼지어 노니는 것이 볼 만하였다. 콩쥐는 물을 쥐어 손도 씻고 돌도 던져 고기도 놀래 주곤 하였다.\n",
        " \n",
        "이 때 뒤로부터 감사가 도임하는 행차가 위의를 갖추어 오느라고 벽제 소리를 지르면 잡인을 치우는 바람에 콩쥐는 허겁지겁 시냇물을 뛰어 건너려다 그만 잘못하여 신 한 짝을 물 속에 빠뜨리고 말았다. 그러나 무섭고 다급한 마음에 콩쥐는 감히 신을 건져 보려고도 하지 못한 채 외가로 달려갔다. 뒤따른 행차가 그 길을 지나칠 때였다. 감사가 무심히 앞길을 바라보니 이상한 서기가 눈에 띄었다.\n",
        " \n",
        "그래서 부하를 지휘하여 그 서기가 떠도는 언저리를 찾아보게 하였다. 그러나 별다른 것은 없고 다만 개울물속에 신 한 짝이 있을 뿐이다. 감사는 심중으로 매우 기이하게 여겨 부하로 하여금 그 신짝을 간수하도록 일러 두었다. 그리고 도임한 후에 곧이어 신짝 잃어버린 사람을 찾아 각처로 사람을 보냈다.\n",
        " \n",
        "이럴 즈음 콩쥐는 외가에 가서 외삼촌과 외숙모께 절하고 뵈니 그 때까지 못오는 줄 알고 섭섭히 생각하고 있던 외삼촌 내외는 매우 기뻐하며 어머니가 돌아가신 후로 고생이 많음을 진심으로 위로하여 좋은 음식을 갖추어 차려 주는 것이었다. 그러자 계모 배씨의 기색이 좋지 않았다.\n",
        " \n",
        "\"콩쥐야, 네 짜던 베는 다 짜고 왔느냐? 말리던 겉피도 다 찧어 놓고 왔느냐? 또 집은 어쩌려고 비워 두고 왔느냐? 그 비단옷은 어디서 훔쳐 입었느냐? 응? 어떤 놈이 네 대신 해 주더냐?\"\n",
        " \n",
        "그리고는 남 안 보는 틈틈이 꼬집어 뜯는 것이었다. 콩쥐는 기가 막혀 할 수 없이 그 사이 겪은 바를 낱낱이 아뢰었다. 그러자 콩쥐의 이야기를 듣고 있던 계모는 눈알이 튀어나오며 얼굴색이 청기와처럼 푸르러지니 그 흉악한 속마음을 어찌 다 말할 수 있으랴?\n",
        " \n",
        "그 때는 온 집안이 터지도록 손들이 모여 있었다. 그러므로 이 구석 저 구석에서 콩쥐의불쌍한 이야기를 주고받으며 콩쥐의 행실을 칭송하는 소리가 자자하였다. 그런데 이 때 마침 관가에서 *차사가 나와 동네를 돌아다니며,\n",
        " \n",
        "\"이 동네 신 한 짝을 잃은 사람이 있거든 이리 와서 말하고 찾아가거라.\"\n",
        " \n",
        "하고 외치면서 바로 콩쥐의 외갓집 문전에 이르더니, 잔치에 모인 사람들에게까지 일일이 그 신을 신겨 보는 것이었다. 그러자 배씨가 관차 앞으로 썩 나섰다.\n",
        " \n",
        "\"여보시오 관차님네! 그신 임자는 바로 나인데, 그 신짝을 잃고서는 아까운 생각을 참을 길이 없어 간밤에도 잠 한숨 이루지 못하였소. 이리 주시오. 그 신은 어저께 새로 사서 신고 당일로 잃어 버렸소.\"\n",
        " \n",
        "관차가 물어 보는 것이었다.\n",
        " \n",
        "\"그러면 잃어버린 곳은 어디며 어떻게 하다가 잃어버렸단 말이오? 이 신짝은 내가 얻은 바도 아니고 이번에 새로 도임하신 감사 사또께서 노중에서 얻으신 거요. 그 신 임자를 찾아 관가로 데려오라는 분부가 계시니 만일 당신이 잃어버린 게 틀림없다면 이리 와서 신어 보시오.\"\n",
        "그리고 신짝을 내놓자 배씨는 버럭 화를 내며 뇌까리고 신발을 빼앗으려 하였다.\n",
        " \n",
        "\"아니, 관차님네 내 말 좀 들어 보소! 내 것 잃고 내가 찾아가는데 신어 보기는 무엇을 신어 보란 말이오? 신어 보지 않으면 내 것이 아닐까 싶어 그러시오? 어제 신은 사서 신고 이 집 잔치에 참례하러 오다가 저 건너 벌판에서 잃어버렸소. 그래도 내 말을 못 믿겠소? 여러 말 말고 어서 이리 주시오!\"\n",
        " \n",
        "관차는 그 하는 모양을 보고는 주저하였으나 발을 내놓게 하고 그 신을 신겨 보았다. 그러나 발은 중턱까지도 들어가지 않았다. 관차는 그 무엄한 짓을 크게 나무라며 다른 사람들로 하여금 차례로 신어 보게 하였다. 그래도 맞는 사람이 없었다.\n",
        " \n",
        "이윽고 관차들이 다른 곳으로 옮겨가려 하는데, 콩쥐는 천연덕스럽게 하는 체도 않고 구경만 하고 있었다. 그러자 손님으로 와 있던 어느 노부인이 당상에 올라앉아 있다가 관차를 불러 이르는 것이었다.\n",
        " \n",
        "\"그 신발을 잃은 사람을 어째서 관가에서 찾는지는 모르나 이 가운데 콩쥐라 하는 아가씨가 그 신발을 잃고 찾으려 하면서도 부끄러워 차마 말씀도 아뢰지 못하는 듯하니, 신 임자를 찾아서 주고 가시오. 그 아가씨는 생전에 처음으로 얻은 신이라 합니다.\"\n",
        " \n",
        "관차가 그 말을 듣고 콩쥐를 불러 내어 신을 신어 보게 하자, 콩쥐가 부끄러워 낯을 붉히며 간신히 발을 내밀어 얌전한 발부리를 신짝 안에 들여 놓으니 살며시 쏙 들어가 맞는 것이었다. 의심할 바 없는 콩쥐의 신이었다. 관차가 콩쥐에게 허리를 굽혀 절하고서 이내 가마 한 채를 꾸며 가지고 와서는 관가로 들어갈 것을 청하였으나 콩쥐는 아직도 시집가지 않은 처녀의 몸이라 괴이쩍은 생각도 들고 무서운 생각도 없지 않아 외삼촌께 말씀을 여쭙고 동행키로 하였다.\n",
        " \n",
        "콩쥐의 가마가 관가에 당도하자 관문 앞에서 사채를 치우고 외삼촌이 먼저 안으로 들어갔다. 감사는 소식을 고대하던 참이라 신짝을 잃은 처녀가 삼문 밖에 대령하였다는 말을 듣고 적이 놀라는 기색이었다.\n",
        "\n",
        "이번에 새로 도임한 감사는 성이 김씨였다. 김감사는 일찍이 아들 하나 두지 못하고 부인을 잃은 고적한 신세였다. 부인이 별세한 후로는 첩도 두지 않고 스스로 마음을 가다듬어 가며 세월을 보내고 있었다. 그런만큼 자연 신기한 것을 즐겨 연구하는 성벽이 생겨 조그마한 일일지라도 눈에 띄고 귀에 들리는 것이 기이하게 여겨지면 기어이 알아 내고야 말았다.\n",
        " \n",
        "도임하던 그 날만 하더라도 이상한 서기를 보고 또 그 곳에서 새신짝을 얻었으므로 호기심에서 그 신 임자를 만나 보았으면 하였던 것인데, 뜻밖에도 신 임자를 찾으러 나갔던 관차가 관령만을 중히 여긴 나머지 남의 집 처녀를 데려왔다고 하므로 김감사는 매우 놀랐다.\n",
        "그래서 감사는,\n",
        " \n",
        "\"어떤 처녀이기에 신짝에게 그토록 서기가 생기는가?\"\n",
        " \n",
        "하고 자세한 연유를 그 외삼촌에게 물었으나 외숙 되는 사람도 서기가 난 까닭에 대해서는 뭐라 대답할 수 없었으므로 결국 콩쥐로 하여금 친히 대답하도록 하였다.\n",
        "콩쥐는 모친의 상사를 당한 일로부터 시작하여 계모 배씨가 들어온 이후에 있었던 그 동안의 일을 낱낱이 아뢰었다.\n",
        "감사는 놀라는 한편 기뻐하며 이윽고 그 외숙에게 콩쥐와 혼인할 뜻을 밝히고 그 의사를 물었다.\n",
        " \n",
        "\"저로서야 여찌 복종을 하지 않을 수 있겠습니까만 그러나 질녀의 부친이 있으니 일단 물러가 상의하고 다시 돌아와 아뢰겠습니다.\"\n",
        " \n",
        "최만춘으로서야 콩쥐의 영화를 싫어할 리 만무한 것이었다. 곧 혼인을 승낙하며 한편 택일을 서둘러서 감사의 재취 부인으로 온갖 예를 갖추어 콩쥐를 시집보내게 된 것이다.\n",
        " \n",
        "그런데 배씨는 당초에 제가 잘 되어 영화를 누려 볼 요량으로 전날 관차를 속여 제가 잃어버린 신이라 하고 콩쥐의 복을 빼앗으려 하다가 발각되어 무안을 당한 후로는 콩쥐를 미워하는 마음이 더욱 심하여졌고, 팥쥐도 또한 샘이 북받쳐 이를 벅벅 갈면서 기회가 오기를 벼르고 있었다.\n",
        " \n",
        "\"콩쥐 저 년이 지금은 저렇게 고운 옷에 단장을 하고서 감사의 부인이 되어 가지만 네가 내 솜씨 앞에서 어차피 엉덩이를 벌리고 앉아서 편안하게 호강은 못 하리라.\"\n",
        " \n",
        "하루는 벌써 석류꽃이 한철을 지났고 쓰르라미가 목을 가다듣어 우는 소리에 문득 세월이 빠름을 깨닫고는 서둘러 조처하여 보리라는 생각이 치밀어오른 팥쥐는 감영 살림채로 콩쥐를 보러 들어갔다.\n",
        "그 때 사또는 공청에 나가고 다만 홀로 콩쥐가 좋은 옷을 입고 아담하게 꾸며 놓은 후원 연못가의 별당에서 나간에 의지하여 힘있게 솟아 오른 연꽃을 구경하고 있었다. 팥쥐는 거짓으로 반색을 하며 달려들어 눙치는 것이었다.\n",
        " \n",
        "\"에구머니, 형닌 그 동안 혼자서만 편안히 지내셨구려? 보기 싫은 이 팥쥐는 형님이 출가하신 후 시시로 형님 생각이 간절하고 어떻게 지내시는지 궁금하여 형님을 보러 왔소. 내가 전엔 철없이 형님한테 응석처럼 한 노릇인데 지금 생각하면 잘못한 것 같아 그 뉘우침이 뼈에 사무친답니다. 그렇더라고 형님은 그런 것을 속에다 품어두시지 마시오. 우리 형제가 범연하게 지내지는 맙시다.\"\n",
        " \n",
        "본래 악의가 없는 사람은 속기를 잘하는 법이다. 콩쥐는 그 말을 듣더니 역시 마음이 움직이는 것이었다.\n",
        " \n",
        "'저것이 아무리 그 전엔 나를 그토록 모해했더라고 그 때는 철을 모를 때요, 이젠 나이가 들어 깨달은 바 있기에 저토록 사과하는 것이니 기특한 일이다.'\n",
        "이렇게 생각하고는 콩쥐는 좋은 음식도 대접하고 살아가는 형편도 물어보고 하면서 집안 구경도 시켜 주는 것이었다.\n",
        " \n",
        "이 때 팥쥐는 외양과는 달리 내심으로는, '콩쥐, 저 년을 어떻게 하면 움도 싹도 없어지게 할꼬?' 하는 간악한 심술이 북받쳐 뱃속으로 온갖 꾀를 꾸며가며 콩쥐를 따라 별의별 화초와 온갖 화초를 구경하다가 연당 앞에 이르자 문득 한 묘계를 생각해 내고 목욕하자고 권하였다. 그리하여 콩쥐와 팥쥐는 옷을 못가에 벗어 놓고 연못으로 들어가 목욕을 하게 되었다.\n",
        " \n",
        "팥쥐는 슬금슬금 콩쥐를 깊은 곳으로 끌고 가서 별안간 연못 속으로 밀어 넣었다. 워낙 순식간의 일이었다. 그러니 어쩔 도리 없이 콩쥐는 그대로 물 속으로 가라앉아 버렸다. 슬프다! 콩쥐가 겨우 잡은 부귀 영화를 마음껏 누려 보기도 전에 이렇듯 연못 귀신이 되고 말 줄이야 누가 꿈엔들 알았으랴?\n",
        "간특하고 요사스럽고 악한 팥쥐는 콩쥐가 물 속으로 들어간 채 물거품만 두어 번 솟구쳐올렸을 뿐 이내 그대로 잠잠해지는 것을 제 눈으로 보고서야 마음이 통쾌해져서,\n",
        " \n",
        "\"이렇게 쉽게 내 계교대로 되는 것을 쓸데없이 오랫동안 마음을 썩였구나!\"\n",
        " \n",
        "라고 뇌까리면서 입가에 웃음을 띄며 급히 밖으로 나와서는 콩쥐의 옷을 제가 주워입고 제 옷을 거두워 치워 버린 다음 태연한 모습으로 마치 콩쥐인 양 별당 난간에 의지하여 연꽃을 바라보면서 못내 기뻐하는 것이었다.\n",
        " \n",
        "감사가 이 때 공사를 마치고 내아로 들어가자 계집 하인이,\n",
        " \n",
        "\"마님께서는 후원 별당에서 홀로 연꽃을 구경하고 계십니다.\"\n",
        " \n",
        "하므로 감사는 발길을 후원으로 돌렸다.\n",
        " \n",
        "김감사는 콩쥐를 맞아들인 후로는 공사만 끝나면 콩쥐와 떨어져 있지 않으려고 하던 터였다. 그러므로 홀로 연꽃을 구경하고 잇다는 말을 듣자 자기도 역시 연꽃을 구경하며 아울러 콩쥐가 연꽃을 사랑하는 의취도 들어 보려는 생각에서 급히 별당으로 들어갔다. 그러자 그 때까지 난간에 기대어 꽃구경을 하고 있던 팥쥐가 재빨리 자리에서 일어나 웃음 띈 얼굴로 내려와 맞자 감사도 또한 기쁜 낯으로 부인의 손목을 잡고서 다시 별당 난간으로 올라가 웃으며,\n",
        "\n",
        "\"부인은 연꽃 구경으로 오늘은 얼마나 즐겁소?\"\n",
        "\n",
        "하였다. 그리고 이야기를 하다가 문득 그 얼굴을 보니, 전날의 모습과는 달리 거무티티할 뿐더러 얼기까지 한 것이었다. 그래 크게 놀라 낯빛마저 잃으면서 감사가 그 이유를 물으니 팥쥐는 이렇게 대답하는 것이었다.\n",
        " \n",
        "\"종일토록 이 곳에서 서성거리며 영감께서 오시기를 기다려 일광을 쐬어 이토록 검은 빛이 되었습니다. 얽어 보이는 것은 다름아니라 아까 영감께서 들어오시는 줄 알고 허둥지둥 뛰어가다가 그만 발이 걸려 콩 멍석에 엎어지는 바람에 이 모양이 되었습니다.\"\n",
        "\n",
        "이 말을 둗자 감사는 늙은 남편인 자기를 부인이 사모함을 고맙게 여겨 여러 말로 위로하며 다만 얼굴이 변한 것만을 애석하게 여길 뿐, 사람이 바뀐 것은 전혀 깨닫지 못하는 것이었다.\n",
        " \n",
        "며칠이 지난 후였다. 하루는 감사가 몸이 불편하여 일찍 공사를 마치고 들어와 연못가를 배회하고 있노라니 못 가운데에 전날 보지 못하던 연꽃 하나가 눈에 띄는 것이었다. 꽃줄기가 유별나게 높이 솟아나 있을 뿐더러 꽃 모양도 신기하여 아름다움이 비길 데 없으므로 노복으로 하여금 그 꽃을 꺾어다가 별당 방문 앞에 꽂아 놓게 하고 감사는 그 꽃을 사랑하여 마지 아니하였다.\n",
        " \n",
        "그러나 팥쥐는 일찍이 깨달은 바 있으므로 그와 같이 큰 꽃이 별안가 그다지도 곱고 아름답게 피어난 것을 보고 심상치 않게 생각하던 중이라, 영감이 그 방을 떠나면 들어가 보곤 하였다. 그런데 참으로 괴상한 것은 팥쥐가 그 방에서 나올 때마다 그 꽃송이 속에 손과도 같은 것이 있는 듯 팥쥐의 머리채를 바당바당 쥐어뜯는 것이었다. 그래 팥쥐는,\n",
        " \n",
        "\"요것이 필연 콩쥐년의 귀신이 붙은 것이다.\"\n",
        " \n",
        "하고 그 꽃을 뽑아다 불아궁이에 처넣었다.\n",
        " \n",
        "그 후 팥쥐는 안심하고 콩쥐의 세간도 마구 뒤지며 제 마음대로 하는데 다시금 이상한 일이 벌어졌다. 바로 이웃에 사는 할멈이 불씨를 얻으려고 감사 댁 내아로 들어와 예전부터 감사 부인과는 친숙한 터라 연못가 별당으로 가서 아궁이에서 불을 떠가려 하였다.\n",
        " \n",
        "그런데 아궁이 속엔 불은 씨도 없이 꺼져 있고 난데없는 오색 구슬이 한 아궁이 가득하므로 노파는 허겁지겁 구슬을 모조리 치맛자락에 쓸어담아 가지고 집으로 돌아와서 반닫이 속에 감추어 두었다. 그랬더니 천만 뜻밖에도 반닫이 속에서 할멈을 부르는 소리가 나는데, 그 소리가 감사 부인의 목소리와 흡사하였다. 노파가 반닫이 문을 열고 보니 감사 부인이 그 속에 들어앉아 있는 게 아닌가. 그리고 노파에게 자기가 죽게 된 전후 사정을 이야기하고는 이어서 한 묘계를 가르쳐 주는 것이었다.\n",
        " \n",
        "노파는 감사 부인이 일러 주는 대로 잔치를 베풀어 거짓으로 자기의 생일이라 하고 김감사를 초대하였다. 김감사가 노파의 집에 와서 젓가락을 드니 한 짝은 길고 한 짝은 짧아 손에 제대로 잡히지 않으므로 노파의 소홀함을 나무라니 노파가 미처 대답도 하기 전에 홀연 병풍 뒤에서 사람의 소리가 있어 대답하는 것이 아닌가.\n",
        " \n",
        "\"젓가락 짝이 틀린 것은 그렇게 똑똑히 아시는 양반이 사람짝이 틀린 것은 어째서 그토록 모르시나요?\"\n",
        " \n",
        "'내외의 짝이 틀리다니 이 어쩐 말인고?'\n",
        " \n",
        "감사가 속으로 이렇게 생각하다가 그 동안 아내의 거동에 종종 괴상한 일이 있었음을 갑자기 깨닫고 바삐 돌아가 알아보리라 생각하고 급히 자리에서 일어서려 할 때 별안간 병풍 뒤에서 녹의 홍상을 입은 한 미인이 앞으로 나와 감사에게 절하며 묻는 것이었다.\n",
        " \n",
        "\"영감께서는 첩을 몰라 보십니까?\"\n",
        " \n",
        "감사는 깜짝 놀라 어찌할 바를 모르고 당황하다가 빨리 사연을 말하라고 하였다.\n",
        " \n",
        "\"첩은 의붓동생인 팥쥐에게 해를 입어 연못 귀신이 되었습니다. 그러나 기왕 이렇게 되었으니 영감께서는 그 팥쥐와 함께 내내 안녕하시기 바랍니다.\"\n",
        " \n",
        "감사가 곧 팥쥐를 잡아 문초하며 또한 사람들을 시켜서 연못을 치게 하니, 과연 콩쥐의 시체가 웃는 낯으로 누워 있었다.\n",
        " \n",
        "급히 건져 내어 염습하려 할 때 죽었던 콩쥐가 다시 숨을 돌리며 살아났다. 그러자 그 때 노파의 집에 있던 콩쥐는 홀연히 온데간데없이 사라졌다. 이에모든 관속과 읍내에사는 백성들까지도 이 신기한 일에 놀라지 않는 사람이 없었다.\n",
        " \n",
        "감사는 팥쥐에게 칼을 씌워 하옥시키고 사실을 조정에 보고하였다. 며칠이 지나서 조정에서 하회가 있었다. 감사는 그 하회대로 형리를 시켜 죄인 팥쥐를 수레에 매어 찢어 죽이고 그 송장을 젓으로 담아 항아리 속에 넣고 꼭꼭 봉하여 팥쥐의 어미를 찾아 전하였다.\n",
        " \n",
        "팥쥐 어미는 처음에 팥쥐가 흉계를 품고 콩쥐를 죽이러 들어갈 때 만만 조심하여 아무쪼록 성사하라고 부탁하여 보낸 후에 곧 최만춘을 고추박이처럼 차 버리고 다른 서방을 얻어 갔다. 혹시 있을지도 모르는 후일의 만약의 경우를 생각하여 후환을 미리 막기 위해서였던 것이다.\n",
        " \n",
        "그리고 주야로 팥쥐의 덕을 입고자 기다리고 있던 중에 관가로부터 선물이 왔다고 하므로 팥쥐 어미는 좋아라 하고 내달으며 훗서방을 안으로 불러들이고는 항아리 아가리를 동여맨 노끈을 풀어 보았다. 큰 항아리에 가득 든 것이 모두 젓갈이었다.\n",
        " \n",
        "한편 또 따로 글씨를 쓴 종이가 들어 있었다. 종이에는 이렇게 씌어 있었다.\n",
        " \n",
        "\"흉한 꾀로 사람을 죽이는 자는 누구든 이와 같이 젓으로 담그고, 딸을 가르쳐 흉하고 독한 일을 실행케 한 자로 하여금 그 고기를 씹어 보게 하노라.\"\n",
        " \n",
        "팥쥐 어미는 이 글을 읽고 팥쥐의 소행이 탄로나 결국 죽음을 당했음을 알자 그만 기절하여 자빠졌다. 그리고 팥쥐 어미는 기절한 채 영영 일어나지 못하고 지옥으로 모녀가 서로 손을 잡고 가 버렸다.\n",
        " \n",
        "한편 김감사는 콩쥐에게 자기의 밝지 못했던 허물을 사과하고 이웃 노파에게 상급을 후히 내린 다음 다시 콩쥐와 더불어 다 하지 못한 인연을 이으니 아들 셋을 낳고 딸도 낳아 화락한 나날을 보냈다.\n",
        "\n",
        "콩쥐의 부친되는 최만춘도 찾아내어 현숙하고 덕이 있는 여자를 얻어 아들딸 낳고 단란한 살림을 이루게 해 주고, 세상 사람들에게 어진 마음씨를 베풀어 어려운 사람에게는 돈과 곡식을 아낌없이 내려 그들을 구제하니, 김감사 내외의 어진 덕을 모든 백성이 칭송해 마지아니하였다.\n",
        "\n",
        "\"\"\""
      ],
      "metadata": {
        "id": "6vN6WMqMXoyf"
      },
      "execution_count": 191,
      "outputs": []
    },
    {
      "cell_type": "code",
      "source": [
        "import re\n",
        "\n",
        "DOCUMENT = re.sub(r'\\n|\\r', ' ', DOCUMENT)\n",
        "DOCUMENT = re.sub(r' +', ' ', DOCUMENT)\n",
        "DOCUMENT = DOCUMENT.strip()"
      ],
      "metadata": {
        "id": "TcihoYIWYlJ5"
      },
      "execution_count": 192,
      "outputs": []
    },
    {
      "cell_type": "code",
      "source": [
        "from gensim.summarization import summarize\n",
        "\n",
        "print(summarize(DOCUMENT, ratio=0.2, split=False))"
      ],
      "metadata": {
        "colab": {
          "base_uri": "https://localhost:8080/"
        },
        "id": "KxO88pw5Ynkj",
        "outputId": "7e81a389-fd14-4cc4-be4c-c0b8046addd5"
      },
      "execution_count": 193,
      "outputs": [
        {
          "output_type": "stream",
          "name": "stdout",
          "text": [
            "그러나 그 모친의 천명이 그만이었던지 조물주의 시기함인지 콩쥐가 태어난 지 겨 백일 만에 조씨 부인이 세상을 하직하게 되니, 최만춘은 뜻하지 않게 중년에 홀아비 신세가 되어 버렸다.\n",
            "이 때부터 콩쥐는 남 모르게 고생을 하게 되었고 설움이 아니면 날을 보내지 못하는 신세가 된 것이다.\n",
            "그리하여 모녀 사이에 소곤거림이 그치면 콩쥐의 신변에는 참혹한 일이 벌어졌으나 그 부친은 한번 배씨가 눈에 든 다음부터는 배씨의 말이라면 팥으로 매주를 쑨다 해도 곧이듣게 되니, 허물없는 콩쥐를 오히려 구박하여 마지아니하였다.\n",
            "하루는 배씨가 두 딸을 불러 놓고, \"시골 사는 계집애가 농사일을 몰라서는 목구멍에 밥알이 들어가지 않으니 콩쥐는 오늘부터 들판으로 김을 매러 다녀라.\n",
            "팥쥐는 너보다 한 살 덜 먹었고 아직 어린것이라 어찌 김을 맬 수 있으랴만 그렇다고 집에 있으면 콩쥐가 제 자식만 사랑한다 할 것이니, 팥쥐 너도 오늘부터 김을 매러 다니도록 해라.\" 하고 팥쥐에게는 쇠호미를 주어 집 근처 모래밭을 매게 하고, 콩쥐에게는 나무호미를 주어 산비탈에 있는 자갈밭을 매게 하는 것이었다.\n",
            "콩쥐는 점심도 얻어먹지 못하고 호미도 나무로 만든 것이라 밭 한 고랑도 못 매어서 목이 부러져 버리니, 마음씨 나쁜 계모로 말미암아 기를 펴지 못하는 콩쥐의 마음이야 어찌 다 형언할 수 있으랴?\n",
            "그러자 검은 소는 좋은 호미와 온갖 과실을 치마폭에 싸 주고는 홀연히 사라져 버리는 것이었다.\n",
            "콩쥐는 과실을 문 틈으로 죄다 들이밀고서야 안으로 들어갈 수 있었다.\n",
            "그러나 그것뿐이라면 오히려 괜찮겠으나 통째로 빼앗긴 그 과실로 말미암아 도리어 콩쥐의 신상에 큰 액운이 덮치게 되었다.\n",
            "하루는 계모 배씨가 콩쥐에게 새로운 일을 시키는 것이었다.\n",
            "네가 그 독을 조금 기울여 주면 내가 그 속에 들어가 한동안 수단을 부리겠다.\" 그러나 콩쥐는 백 번 사양하며 듣지 않았다.\n",
            "그리고 독을 바로잡아 놓은 다음 물을 길어다 부으니, 과연 몇 차례 안 해서 독에 물이 가득 찼으므로 계모 배씨에게 물독을 채웠노라고 아뢰니, 배씨는 겉으로 좋아하는 모양을 보였으나 속으로는 이상한 생각을 품지 않을 수 없었다.\n",
            "그러자 염치도 없고 인사도 모르는 계모 배씨는 큰 마누라 본가 잔치에 무슨 체면으로 나서려는지 콩쥐는 젖혀 놓고 제가 먼저 날뛰는 것이었다.\n",
            "콩쥐가 한 번도 보지 못한 예쁜 여인이 찬란한 비단옷을 곱게 차려 입고 신기한 향내를 풍기며 뚜렷한 모습으로 베틀 앞에 다가서며 콩쥐를 보고 베틀에서 내려오기를 재촉하는 것이었다.\n",
            "넋을 잃고 바라보던 콩쥐가 가까스로 정신을 차려 막대기를 집어 들고 일어나서 마당으로 내려가자, 아까부터 겉피 위에 앉아서 겉피를 쪼아 먹던 새 떼가 훌쩍 날아가 버리는데 겉피는 알맹이가 되어 그대로 남아 있었다.\n",
            "여기서 콩쥐는 건넛마을 외갓집 잔치를 보러 가는데, 때는 바야흐로 춘삼월 좋은 계절이라 여러 가지 아름다운꽃이 모두 스스로 웃기를 마지아니하고 나는 새와 다른 짐승도 각기 그 즐거움을 누리고 있었다.\n",
            "이 때 뒤로부터 감사가 도임하는 행차가 위의를 갖추어 오느라고 벽제 소리를 지르면 잡인을 치우는 바람에 콩쥐는 허겁지겁 시냇물을 뛰어 건너려다 그만 잘못하여 신 한 짝을 물 속에 빠뜨리고 말았다.\n",
            "그러나 무섭고 다급한 마음에 콩쥐는 감히 신을 건져 보려고도 하지 못한 채 외가로 달려갔다.\n",
            "이럴 즈음 콩쥐는 외가에 가서 외삼촌과 외숙모께 절하고 뵈니 그 때까지 못오는 줄 알고 섭섭히 생각하고 있던 외삼촌 내외는 매우 기뻐하며 어머니가 돌아가신 후로 고생이 많음을 진심으로 위로하여 좋은 음식을 갖추어 차려 주는 것이었다.\n",
            "그런데 이 때 마침 관가에서 *차사가 나와 동네를 돌아다니며, \"이 동네 신 한 짝을 잃은 사람이 있거든 이리 와서 말하고 찾아가거라.\" 하고 외치면서 바로 콩쥐의 외갓집 문전에 이르더니, 잔치에 모인 사람들에게까지 일일이 그 신을 신겨 보는 것이었다.\n",
            "그 신 임자를 찾아 관가로 데려오라는 분부가 계시니 만일 당신이 잃어버린 게 틀림없다면 이리 와서 신어 보시오.\" 그리고 신짝을 내놓자 배씨는 버럭 화를 내며 뇌까리고 신발을 빼앗으려 하였다.\n",
            "이윽고 관차들이 다른 곳으로 옮겨가려 하는데, 콩쥐는 천연덕스럽게 하는 체도 않고 구경만 하고 있었다.\n",
            "그 아가씨는 생전에 처음으로 얻은 신이라 합니다.\" 관차가 그 말을 듣고 콩쥐를 불러 내어 신을 신어 보게 하자, 콩쥐가 부끄러워 낯을 붉히며 간신히 발을 내밀어 얌전한 발부리를 신짝 안에 들여 놓으니 살며시 쏙 들어가 맞는 것이었다.\n",
            "\"저로서야 여찌 복종을 하지 않을 수 있겠습니까만 그러나 질녀의 부친이 있으니 일단 물러가 상의하고 다시 돌아와 아뢰겠습니다.\" 최만춘으로서야 콩쥐의 영화를 싫어할 리 만무한 것이었다.\n",
            "그런데 배씨는 당초에 제가 잘 되어 영화를 누려 볼 요량으로 전날 관차를 속여 제가 잃어버린 신이라 하고 콩쥐의 복을 빼앗으려 하다가 발각되어 무안을 당한 후로는 콩쥐를 미워하는 마음이 더욱 심하여졌고, 팥쥐도 또한 샘이 북받쳐 이를 벅벅 갈면서 기회가 오기를 벼르고 있었다.\n",
            "\"콩쥐 저 년이 지금은 저렇게 고운 옷에 단장을 하고서 감사의 부인이 되어 가지만 네가 내 솜씨 앞에서 어차피 엉덩이를 벌리고 앉아서 편안하게 호강은 못 하리라.\" 하루는 벌써 석류꽃이 한철을 지났고 쓰르라미가 목을 가다듣어 우는 소리에 문득 세월이 빠름을 깨닫고는 서둘러 조처하여 보리라는 생각이 치밀어오른 팥쥐는 감영 살림채로 콩쥐를 보러 들어갔다.\n",
            "콩쥐는 그 말을 듣더니 역시 마음이 움직이는 것이었다.\n",
            "'저것이 아무리 그 전엔 나를 그토록 모해했더라고 그 때는 철을 모를 때요, 이젠 나이가 들어 깨달은 바 있기에 저토록 사과하는 것이니 기특한 일이다.' 이렇게 생각하고는 콩쥐는 좋은 음식도 대접하고 살아가는 형편도 물어보고 하면서 집안 구경도 시켜 주는 것이었다.\n",
            "간특하고 요사스럽고 악한 팥쥐는 콩쥐가 물 속으로 들어간 채 물거품만 두어 번 솟구쳐올렸을 뿐 이내 그대로 잠잠해지는 것을 제 눈으로 보고서야 마음이 통쾌해져서, \"이렇게 쉽게 내 계교대로 되는 것을 쓸데없이 오랫동안 마음을 썩였구나!\" 라고 뇌까리면서 입가에 웃음을 띄며 급히 밖으로 나와서는 콩쥐의 옷을 제가 주워입고 제 옷을 거두워 치워 버린 다음 태연한 모습으로 마치 콩쥐인 양 별당 난간에 의지하여 연꽃을 바라보면서 못내 기뻐하는 것이었다.\n",
            "감사가 이 때 공사를 마치고 내아로 들어가자 계집 하인이, \"마님께서는 후원 별당에서 홀로 연꽃을 구경하고 계십니다.\" 하므로 감사는 발길을 후원으로 돌렸다.\n",
            "그리고 이야기를 하다가 문득 그 얼굴을 보니, 전날의 모습과는 달리 거무티티할 뿐더러 얼기까지 한 것이었다.\n",
            "그래 크게 놀라 낯빛마저 잃으면서 감사가 그 이유를 물으니 팥쥐는 이렇게 대답하는 것이었다.\n",
            "얽어 보이는 것은 다름아니라 아까 영감께서 들어오시는 줄 알고 허둥지둥 뛰어가다가 그만 발이 걸려 콩 멍석에 엎어지는 바람에 이 모양이 되었습니다.\" 이 말을 둗자 감사는 늙은 남편인 자기를 부인이 사모함을 고맙게 여겨 여러 말로 위로하며 다만 얼굴이 변한 것만을 애석하게 여길 뿐, 사람이 바뀐 것은 전혀 깨닫지 못하는 것이었다.\n",
            "하루는 감사가 몸이 불편하여 일찍 공사를 마치고 들어와 연못가를 배회하고 있노라니 못 가운데에 전날 보지 못하던 연꽃 하나가 눈에 띄는 것이었다.\n",
            "그러나 팥쥐는 일찍이 깨달은 바 있으므로 그와 같이 큰 꽃이 별안가 그다지도 곱고 아름답게 피어난 것을 보고 심상치 않게 생각하던 중이라, 영감이 그 방을 떠나면 들어가 보곤 하였다.\n",
            "그리고 노파에게 자기가 죽게 된 전후 사정을 이야기하고는 이어서 한 묘계를 가르쳐 주는 것이었다.\n",
            "그러나 기왕 이렇게 되었으니 영감께서는 그 팥쥐와 함께 내내 안녕하시기 바랍니다.\" 감사가 곧 팥쥐를 잡아 문초하며 또한 사람들을 시켜서 연못을 치게 하니, 과연 콩쥐의 시체가 웃는 낯으로 누워 있었다.\n",
            "그러자 그 때 노파의 집에 있던 콩쥐는 홀연히 온데간데없이 사라졌다.\n"
          ]
        }
      ]
    },
    {
      "cell_type": "code",
      "source": [
        "print(summarize(DOCUMENT, word_count=75, split=False))"
      ],
      "metadata": {
        "colab": {
          "base_uri": "https://localhost:8080/"
        },
        "id": "VdR6DfCYYvWH",
        "outputId": "b1544ed1-9c75-4ec8-868d-17426497276a"
      },
      "execution_count": 194,
      "outputs": [
        {
          "output_type": "stream",
          "name": "stdout",
          "text": [
            "그러자 염치도 없고 인사도 모르는 계모 배씨는 큰 마누라 본가 잔치에 무슨 체면으로 나서려는지 콩쥐는 젖혀 놓고 제가 먼저 날뛰는 것이었다.\n",
            "그런데 배씨는 당초에 제가 잘 되어 영화를 누려 볼 요량으로 전날 관차를 속여 제가 잃어버린 신이라 하고 콩쥐의 복을 빼앗으려 하다가 발각되어 무안을 당한 후로는 콩쥐를 미워하는 마음이 더욱 심하여졌고, 팥쥐도 또한 샘이 북받쳐 이를 벅벅 갈면서 기회가 오기를 벼르고 있었다.\n"
          ]
        }
      ]
    },
    {
      "cell_type": "code",
      "source": [
        "import nltk\n",
        "\n",
        "sentences = nltk.sent_tokenize(DOCUMENT)\n",
        "len(sentences)"
      ],
      "metadata": {
        "colab": {
          "base_uri": "https://localhost:8080/"
        },
        "id": "2osbL7C8YySf",
        "outputId": "48750d78-ec0c-47e8-b3f6-8932d55824fe"
      },
      "execution_count": 195,
      "outputs": [
        {
          "output_type": "execute_result",
          "data": {
            "text/plain": [
              "230"
            ]
          },
          "metadata": {},
          "execution_count": 195
        }
      ]
    },
    {
      "cell_type": "code",
      "source": [
        "stop_words_s = \"\"\"\n",
        "아\n",
        "휴\n",
        "아이구\n",
        "아이쿠\n",
        "아이고\n",
        "어\n",
        "나\n",
        "우리\n",
        "저희\n",
        "따라\n",
        "의해\n",
        "을\n",
        "를\n",
        "에\n",
        "의\n",
        "가\n",
        "으로\n",
        "로\n",
        "에게\n",
        "뿐이다\n",
        "의거하여\n",
        "근거하여\n",
        "입각하여\n",
        "기준으로\n",
        "예하면\n",
        "예를 들면\n",
        "예를 들자면\n",
        "저\n",
        "소인\n",
        "소생\n",
        "저희\n",
        "지말고\n",
        "하지마\n",
        "하지마라\n",
        "다른\n",
        "물론\n",
        "또한\n",
        "그리고\n",
        "비길수 없다\n",
        "해서는 안된다\n",
        "뿐만 아니라\n",
        "만이 아니다\n",
        "만은 아니다\n",
        "막론하고\n",
        "관계없이\n",
        "그치지 않다\n",
        "그러나\n",
        "그런데\n",
        "하지만\n",
        "든간에\n",
        "논하지 않다\n",
        "따지지 않다\n",
        "설사\n",
        "비록\n",
        "더라도\n",
        "아니면\n",
        "만 못하다\n",
        "하는 편이 낫다\n",
        "불문하고\n",
        "향하여\n",
        "향해서\n",
        "향하다\n",
        "쪽으로\n",
        "틈타\n",
        "이용하여\n",
        "타다\n",
        "오르다\n",
        "제외하고\n",
        "이 외에\n",
        "이 밖에\n",
        "하여야\n",
        "비로소\n",
        "한다면 몰라도\n",
        "외에도\n",
        "이곳\n",
        "여기\n",
        "부터\n",
        "기점으로\n",
        "따라서\n",
        "할 생각이다\n",
        "하려고하다\n",
        "이리하여\n",
        "그리하여\n",
        "그렇게 함으로써\n",
        "하지만\n",
        "일때\n",
        "할때\n",
        "앞에서\n",
        "중에서\n",
        "보는데서\n",
        "으로써\n",
        "로써\n",
        "까지\n",
        "해야한다\n",
        "일것이다\n",
        "반드시\n",
        "할줄알다\n",
        "할수있다\n",
        "할수있어\n",
        "임에 틀림없다\n",
        "한다면\n",
        "등\n",
        "등등\n",
        "제\n",
        "겨우\n",
        "단지\n",
        "다만\n",
        "할뿐\n",
        "딩동\n",
        "댕그\n",
        "대해서\n",
        "대하여\n",
        "대하면\n",
        "훨씬\n",
        "얼마나\n",
        "얼마만큼\n",
        "얼마큼\n",
        "남짓\n",
        "여\n",
        "얼마간\n",
        "약간\n",
        "다소\n",
        "좀\n",
        "조금\n",
        "다수\n",
        "몇\n",
        "얼마\n",
        "지만\n",
        "하물며\n",
        "또한\n",
        "그러나\n",
        "그렇지만\n",
        "하지만\n",
        "이외에도\n",
        "대해 말하자면\n",
        "뿐이다\n",
        "다음에\n",
        "반대로\n",
        "반대로 말하자면\n",
        "이와 반대로\n",
        "바꾸어서 말하면\n",
        "바꾸어서 한다면\n",
        "만약\n",
        "그렇지않으면\n",
        "까악\n",
        "툭\n",
        "딱\n",
        "삐걱거리다\n",
        "보드득\n",
        "비걱거리다\n",
        "꽈당\n",
        "응당\n",
        "해야한다\n",
        "에 가서\n",
        "각\n",
        "각각\n",
        "여러분\n",
        "각종\n",
        "각자\n",
        "제각기\n",
        "하도록하다\n",
        "와\n",
        "과\n",
        "그러므로\n",
        "그래서\n",
        "고로\n",
        "한 까닭에\n",
        "하기 때문에\n",
        "거니와\n",
        "이지만\n",
        "대하여\n",
        "관하여\n",
        "관한\n",
        "과연\n",
        "실로\n",
        "아니나다를가\n",
        "생각한대로\n",
        "진짜로\n",
        "한적이있다\n",
        "하곤하였다\n",
        "하\n",
        "하하\n",
        "허허\n",
        "아하\n",
        "거바\n",
        "와\n",
        "오\n",
        "왜\n",
        "어째서\n",
        "무엇때문에\n",
        "어찌\n",
        "하겠는가\n",
        "무슨\n",
        "어디\n",
        "어느곳\n",
        "더군다나\n",
        "하물며\n",
        "더욱이는\n",
        "어느때\n",
        "언제\n",
        "야\n",
        "이봐\n",
        "어이\n",
        "여보시오\n",
        "흐흐\n",
        "흥\n",
        "휴\n",
        "헉헉\n",
        "헐떡헐떡\n",
        "영차\n",
        "여차\n",
        "어기여차\n",
        "끙끙\n",
        "아야\n",
        "앗\n",
        "아야\n",
        "콸콸\n",
        "졸졸\n",
        "좍좍\n",
        "뚝뚝\n",
        "주룩주룩\n",
        "솨\n",
        "우르르\n",
        "그래도\n",
        "또\n",
        "그리고\n",
        "바꾸어말하면\n",
        "바꾸어말하자면\n",
        "혹은\n",
        "혹시\n",
        "답다\n",
        "및\n",
        "그에 따르는\n",
        "때가 되어\n",
        "즉\n",
        "지든지\n",
        "설령\n",
        "가령\n",
        "하더라도\n",
        "할지라도\n",
        "일지라도\n",
        "지든지\n",
        "몇\n",
        "거의\n",
        "하마터면\n",
        "인젠\n",
        "이젠\n",
        "된바에야\n",
        "된이상\n",
        "만큼\t어찌됏든\n",
        "그위에\n",
        "게다가\n",
        "점에서 보아\n",
        "비추어 보아\n",
        "고려하면\n",
        "하게될것이다\n",
        "일것이다\n",
        "비교적\n",
        "좀\n",
        "보다더\n",
        "비하면\n",
        "시키다\n",
        "하게하다\n",
        "할만하다\n",
        "의해서\n",
        "연이서\n",
        "이어서\n",
        "잇따라\n",
        "뒤따라\n",
        "뒤이어\n",
        "결국\n",
        "의지하여\n",
        "기대여\n",
        "통하여\n",
        "자마자\n",
        "더욱더\n",
        "불구하고\n",
        "얼마든지\n",
        "마음대로\n",
        "주저하지 않고\n",
        "곧\n",
        "즉시\n",
        "바로\n",
        "당장\n",
        "하자마자\n",
        "밖에 안된다\n",
        "하면된다\n",
        "그래\n",
        "그렇지\n",
        "요컨대\n",
        "다시 말하자면\n",
        "바꿔 말하면\n",
        "즉\n",
        "구체적으로\n",
        "말하자면\n",
        "시작하여\n",
        "시초에\n",
        "이상\n",
        "허\n",
        "헉\n",
        "허걱\n",
        "바와같이\n",
        "해도좋다\n",
        "해도된다\n",
        "게다가\n",
        "더구나\n",
        "하물며\n",
        "와르르\n",
        "팍\n",
        "퍽\n",
        "펄렁\n",
        "동안\n",
        "이래\n",
        "하고있었다\n",
        "이었다\n",
        "에서\n",
        "로부터\n",
        "까지\n",
        "예하면\n",
        "했어요\n",
        "해요\n",
        "함께\n",
        "같이\n",
        "더불어\n",
        "마저\n",
        "마저도\n",
        "양자\n",
        "모두\n",
        "습니다\n",
        "가까스로\n",
        "하려고하다\n",
        "즈음하여\n",
        "다른\n",
        "다른 방면으로\n",
        "해봐요\n",
        "습니까\n",
        "했어요\n",
        "말할것도 없고\n",
        "무릎쓰고\n",
        "개의치않고\n",
        "하는것만 못하다\n",
        "하는것이 낫다\n",
        "매\n",
        "매번\n",
        "들\n",
        "모\n",
        "어느것\n",
        "어느\n",
        "로써\n",
        "갖고말하자면\n",
        "어디\n",
        "어느쪽\n",
        "어느것\n",
        "어느해\n",
        "어느 년도\n",
        "라 해도\n",
        "언젠가\n",
        "어떤것\n",
        "어느것\n",
        "저기\n",
        "저쪽\n",
        "저것\n",
        "그때\n",
        "그럼\n",
        "그러면\n",
        "요만한걸\n",
        "그래\n",
        "그때\n",
        "저것만큼\n",
        "그저\n",
        "이르기까지\n",
        "할 줄 안다\n",
        "할 힘이 있다\n",
        "너\n",
        "너희\n",
        "당신\n",
        "어찌\n",
        "설마\n",
        "차라리\n",
        "할지언정\n",
        "할지라도\n",
        "할망정\n",
        "할지언정\n",
        "구토하다\n",
        "게우다\n",
        "토하다\n",
        "메쓰겁다\n",
        "옆사람\n",
        "퉤\n",
        "쳇\n",
        "의거하여\n",
        "근거하여\n",
        "의해\n",
        "따라\n",
        "힘입어\n",
        "그\n",
        "다음\n",
        "버금\n",
        "두번째로\n",
        "기타\n",
        "첫번째로\n",
        "나머지는\n",
        "그중에서\n",
        "견지에서\n",
        "형식으로 쓰여\n",
        "입장에서\n",
        "위해서\n",
        "단지\n",
        "의해되다\n",
        "하도록시키다\n",
        "뿐만아니라\n",
        "반대로\n",
        "전후\n",
        "전자\n",
        "앞의것\n",
        "잠시\n",
        "잠깐\n",
        "하면서\n",
        "그렇지만\n",
        "다음에\n",
        "그러한즉\n",
        "그런즉\n",
        "남들\n",
        "아무거나\n",
        "어찌하든지\n",
        "같다\n",
        "비슷하다\n",
        "예컨대\n",
        "이럴정도로\n",
        "어떻게\n",
        "만약\n",
        "만일\n",
        "위에서 서술한바와같이\n",
        "인 듯하다\n",
        "하지 않는다면\n",
        "만약에\n",
        "무엇\n",
        "무슨\n",
        "어느\n",
        "어떤\n",
        "아래윗\n",
        "조차\n",
        "한데\n",
        "그럼에도 불구하고\n",
        "여전히\n",
        "심지어\n",
        "까지도\n",
        "조차도\n",
        "하지 않도록\n",
        "않기 위하여\n",
        "때\n",
        "시각\n",
        "무렵\n",
        "시간\n",
        "동안\n",
        "어때\n",
        "어떠한\n",
        "하여금\n",
        "네\n",
        "예\n",
        "우선\n",
        "누구\n",
        "누가 알겠는가\n",
        "아무도\n",
        "줄은모른다\n",
        "줄은 몰랏다\n",
        "하는 김에\n",
        "겸사겸사\n",
        "하는바\n",
        "그런 까닭에\n",
        "한 이유는\n",
        "그러니\n",
        "그러니까\n",
        "때문에\n",
        "그\n",
        "너희\n",
        "그들\n",
        "너희들\n",
        "타인\n",
        "것\n",
        "것들\n",
        "너\n",
        "위하여\n",
        "공동으로\n",
        "동시에\n",
        "하기 위하여\n",
        "어찌하여\n",
        "무엇때문에\n",
        "붕붕\n",
        "윙윙\n",
        "나\n",
        "우리\n",
        "엉엉\n",
        "휘익\n",
        "윙윙\n",
        "오호\n",
        "아하\n",
        "어쨋든\n",
        "만 못하다\t하기보다는\n",
        "차라리\n",
        "하는 편이 낫다\n",
        "흐흐\n",
        "놀라다\n",
        "상대적으로 말하자면\n",
        "마치\n",
        "아니라면\n",
        "쉿\n",
        "그렇지 않으면\n",
        "그렇지 않다면\n",
        "안 그러면\n",
        "아니었다면\n",
        "하든지\n",
        "아니면\n",
        "이라면\n",
        "좋아\n",
        "알았어\n",
        "하는것도\n",
        "그만이다\n",
        "어쩔수 없다\n",
        "하나\n",
        "일\n",
        "일반적으로\n",
        "일단\n",
        "한켠으로는\n",
        "오자마자\n",
        "이렇게되면\n",
        "이와같다면\n",
        "전부\n",
        "한마디\n",
        "한항목\n",
        "근거로\n",
        "하기에\n",
        "아울러\n",
        "하지 않도록\n",
        "않기 위해서\n",
        "이르기까지\n",
        "이 되다\n",
        "로 인하여\n",
        "까닭으로\n",
        "이유만으로\n",
        "이로 인하여\n",
        "그래서\n",
        "이 때문에\n",
        "그러므로\n",
        "그런 까닭에\n",
        "알 수 있다\n",
        "결론을 낼 수 있다\n",
        "으로 인하여\n",
        "있다\n",
        "어떤것\n",
        "관계가 있다\n",
        "관련이 있다\n",
        "연관되다\n",
        "어떤것들\n",
        "에 대해\n",
        "이리하여\n",
        "그리하여\n",
        "여부\n",
        "하기보다는\n",
        "하느니\n",
        "하면 할수록\n",
        "운운\n",
        "이러이러하다\n",
        "하구나\n",
        "하도다\n",
        "다시말하면\n",
        "다음으로\n",
        "에 있다\n",
        "에 달려 있다\n",
        "우리\n",
        "우리들\n",
        "오히려\n",
        "하기는한데\n",
        "어떻게\n",
        "어떻해\n",
        "어찌됏어\n",
        "어때\n",
        "어째서\n",
        "본대로\n",
        "자\n",
        "이\n",
        "이쪽\n",
        "여기\n",
        "이것\n",
        "이번\n",
        "이렇게말하자면\n",
        "이런\n",
        "이러한\n",
        "이와 같은\n",
        "요만큼\n",
        "요만한 것\n",
        "얼마 안 되는 것\n",
        "이만큼\n",
        "이 정도의\n",
        "이렇게 많은 것\n",
        "이와 같다\n",
        "이때\n",
        "이렇구나\n",
        "것과 같이\n",
        "끼익\n",
        "삐걱\n",
        "따위\n",
        "와 같은 사람들\n",
        "부류의 사람들\n",
        "왜냐하면\n",
        "중의하나\n",
        "오직\n",
        "오로지\n",
        "에 한하다\n",
        "하기만 하면\n",
        "도착하다\n",
        "까지 미치다\n",
        "도달하다\n",
        "정도에 이르다\n",
        "할 지경이다\n",
        "결과에 이르다\n",
        "관해서는\n",
        "여러분\n",
        "하고 있다\n",
        "한 후\n",
        "혼자\n",
        "자기\n",
        "자기집\n",
        "자신\n",
        "우에 종합한것과같이\n",
        "총적으로 보면\n",
        "총적으로 말하면\n",
        "총적으로\n",
        "대로 하다\n",
        "으로서\n",
        "참\n",
        "그만이다\n",
        "할 따름이다\n",
        "쿵\n",
        "탕탕\n",
        "쾅쾅\n",
        "둥둥\n",
        "봐\n",
        "봐라\n",
        "아이야\n",
        "아니\n",
        "와아\n",
        "응\n",
        "아이\n",
        "참나\n",
        "년\n",
        "월\n",
        "일\n",
        "령\n",
        "영\n",
        "일\n",
        "이\n",
        "삼\n",
        "사\n",
        "오\n",
        "육\n",
        "륙\n",
        "칠\n",
        "팔\n",
        "구\n",
        "이천육\n",
        "이천칠\n",
        "이천팔\n",
        "이천구\n",
        "하나\n",
        "둘\n",
        "셋\n",
        "넷\n",
        "다섯\n",
        "여섯\n",
        "일곱\n",
        "여덟\n",
        "아홉\n",
        "령\n",
        "영\n",
        "\"\"\""
      ],
      "metadata": {
        "id": "Xz8HTzPJZkpr"
      },
      "execution_count": 196,
      "outputs": []
    },
    {
      "cell_type": "code",
      "source": [
        "stop_words = stop_words_s.split()\n",
        "print(stop_words)"
      ],
      "metadata": {
        "colab": {
          "base_uri": "https://localhost:8080/"
        },
        "id": "WxHKJ5INZqin",
        "outputId": "fd6b3801-7e9f-4c20-e037-42dc007ed63e"
      },
      "execution_count": 197,
      "outputs": [
        {
          "output_type": "stream",
          "name": "stdout",
          "text": [
            "['아', '휴', '아이구', '아이쿠', '아이고', '어', '나', '우리', '저희', '따라', '의해', '을', '를', '에', '의', '가', '으로', '로', '에게', '뿐이다', '의거하여', '근거하여', '입각하여', '기준으로', '예하면', '예를', '들면', '예를', '들자면', '저', '소인', '소생', '저희', '지말고', '하지마', '하지마라', '다른', '물론', '또한', '그리고', '비길수', '없다', '해서는', '안된다', '뿐만', '아니라', '만이', '아니다', '만은', '아니다', '막론하고', '관계없이', '그치지', '않다', '그러나', '그런데', '하지만', '든간에', '논하지', '않다', '따지지', '않다', '설사', '비록', '더라도', '아니면', '만', '못하다', '하는', '편이', '낫다', '불문하고', '향하여', '향해서', '향하다', '쪽으로', '틈타', '이용하여', '타다', '오르다', '제외하고', '이', '외에', '이', '밖에', '하여야', '비로소', '한다면', '몰라도', '외에도', '이곳', '여기', '부터', '기점으로', '따라서', '할', '생각이다', '하려고하다', '이리하여', '그리하여', '그렇게', '함으로써', '하지만', '일때', '할때', '앞에서', '중에서', '보는데서', '으로써', '로써', '까지', '해야한다', '일것이다', '반드시', '할줄알다', '할수있다', '할수있어', '임에', '틀림없다', '한다면', '등', '등등', '제', '겨우', '단지', '다만', '할뿐', '딩동', '댕그', '대해서', '대하여', '대하면', '훨씬', '얼마나', '얼마만큼', '얼마큼', '남짓', '여', '얼마간', '약간', '다소', '좀', '조금', '다수', '몇', '얼마', '지만', '하물며', '또한', '그러나', '그렇지만', '하지만', '이외에도', '대해', '말하자면', '뿐이다', '다음에', '반대로', '반대로', '말하자면', '이와', '반대로', '바꾸어서', '말하면', '바꾸어서', '한다면', '만약', '그렇지않으면', '까악', '툭', '딱', '삐걱거리다', '보드득', '비걱거리다', '꽈당', '응당', '해야한다', '에', '가서', '각', '각각', '여러분', '각종', '각자', '제각기', '하도록하다', '와', '과', '그러므로', '그래서', '고로', '한', '까닭에', '하기', '때문에', '거니와', '이지만', '대하여', '관하여', '관한', '과연', '실로', '아니나다를가', '생각한대로', '진짜로', '한적이있다', '하곤하였다', '하', '하하', '허허', '아하', '거바', '와', '오', '왜', '어째서', '무엇때문에', '어찌', '하겠는가', '무슨', '어디', '어느곳', '더군다나', '하물며', '더욱이는', '어느때', '언제', '야', '이봐', '어이', '여보시오', '흐흐', '흥', '휴', '헉헉', '헐떡헐떡', '영차', '여차', '어기여차', '끙끙', '아야', '앗', '아야', '콸콸', '졸졸', '좍좍', '뚝뚝', '주룩주룩', '솨', '우르르', '그래도', '또', '그리고', '바꾸어말하면', '바꾸어말하자면', '혹은', '혹시', '답다', '및', '그에', '따르는', '때가', '되어', '즉', '지든지', '설령', '가령', '하더라도', '할지라도', '일지라도', '지든지', '몇', '거의', '하마터면', '인젠', '이젠', '된바에야', '된이상', '만큼', '어찌됏든', '그위에', '게다가', '점에서', '보아', '비추어', '보아', '고려하면', '하게될것이다', '일것이다', '비교적', '좀', '보다더', '비하면', '시키다', '하게하다', '할만하다', '의해서', '연이서', '이어서', '잇따라', '뒤따라', '뒤이어', '결국', '의지하여', '기대여', '통하여', '자마자', '더욱더', '불구하고', '얼마든지', '마음대로', '주저하지', '않고', '곧', '즉시', '바로', '당장', '하자마자', '밖에', '안된다', '하면된다', '그래', '그렇지', '요컨대', '다시', '말하자면', '바꿔', '말하면', '즉', '구체적으로', '말하자면', '시작하여', '시초에', '이상', '허', '헉', '허걱', '바와같이', '해도좋다', '해도된다', '게다가', '더구나', '하물며', '와르르', '팍', '퍽', '펄렁', '동안', '이래', '하고있었다', '이었다', '에서', '로부터', '까지', '예하면', '했어요', '해요', '함께', '같이', '더불어', '마저', '마저도', '양자', '모두', '습니다', '가까스로', '하려고하다', '즈음하여', '다른', '다른', '방면으로', '해봐요', '습니까', '했어요', '말할것도', '없고', '무릎쓰고', '개의치않고', '하는것만', '못하다', '하는것이', '낫다', '매', '매번', '들', '모', '어느것', '어느', '로써', '갖고말하자면', '어디', '어느쪽', '어느것', '어느해', '어느', '년도', '라', '해도', '언젠가', '어떤것', '어느것', '저기', '저쪽', '저것', '그때', '그럼', '그러면', '요만한걸', '그래', '그때', '저것만큼', '그저', '이르기까지', '할', '줄', '안다', '할', '힘이', '있다', '너', '너희', '당신', '어찌', '설마', '차라리', '할지언정', '할지라도', '할망정', '할지언정', '구토하다', '게우다', '토하다', '메쓰겁다', '옆사람', '퉤', '쳇', '의거하여', '근거하여', '의해', '따라', '힘입어', '그', '다음', '버금', '두번째로', '기타', '첫번째로', '나머지는', '그중에서', '견지에서', '형식으로', '쓰여', '입장에서', '위해서', '단지', '의해되다', '하도록시키다', '뿐만아니라', '반대로', '전후', '전자', '앞의것', '잠시', '잠깐', '하면서', '그렇지만', '다음에', '그러한즉', '그런즉', '남들', '아무거나', '어찌하든지', '같다', '비슷하다', '예컨대', '이럴정도로', '어떻게', '만약', '만일', '위에서', '서술한바와같이', '인', '듯하다', '하지', '않는다면', '만약에', '무엇', '무슨', '어느', '어떤', '아래윗', '조차', '한데', '그럼에도', '불구하고', '여전히', '심지어', '까지도', '조차도', '하지', '않도록', '않기', '위하여', '때', '시각', '무렵', '시간', '동안', '어때', '어떠한', '하여금', '네', '예', '우선', '누구', '누가', '알겠는가', '아무도', '줄은모른다', '줄은', '몰랏다', '하는', '김에', '겸사겸사', '하는바', '그런', '까닭에', '한', '이유는', '그러니', '그러니까', '때문에', '그', '너희', '그들', '너희들', '타인', '것', '것들', '너', '위하여', '공동으로', '동시에', '하기', '위하여', '어찌하여', '무엇때문에', '붕붕', '윙윙', '나', '우리', '엉엉', '휘익', '윙윙', '오호', '아하', '어쨋든', '만', '못하다', '하기보다는', '차라리', '하는', '편이', '낫다', '흐흐', '놀라다', '상대적으로', '말하자면', '마치', '아니라면', '쉿', '그렇지', '않으면', '그렇지', '않다면', '안', '그러면', '아니었다면', '하든지', '아니면', '이라면', '좋아', '알았어', '하는것도', '그만이다', '어쩔수', '없다', '하나', '일', '일반적으로', '일단', '한켠으로는', '오자마자', '이렇게되면', '이와같다면', '전부', '한마디', '한항목', '근거로', '하기에', '아울러', '하지', '않도록', '않기', '위해서', '이르기까지', '이', '되다', '로', '인하여', '까닭으로', '이유만으로', '이로', '인하여', '그래서', '이', '때문에', '그러므로', '그런', '까닭에', '알', '수', '있다', '결론을', '낼', '수', '있다', '으로', '인하여', '있다', '어떤것', '관계가', '있다', '관련이', '있다', '연관되다', '어떤것들', '에', '대해', '이리하여', '그리하여', '여부', '하기보다는', '하느니', '하면', '할수록', '운운', '이러이러하다', '하구나', '하도다', '다시말하면', '다음으로', '에', '있다', '에', '달려', '있다', '우리', '우리들', '오히려', '하기는한데', '어떻게', '어떻해', '어찌됏어', '어때', '어째서', '본대로', '자', '이', '이쪽', '여기', '이것', '이번', '이렇게말하자면', '이런', '이러한', '이와', '같은', '요만큼', '요만한', '것', '얼마', '안', '되는', '것', '이만큼', '이', '정도의', '이렇게', '많은', '것', '이와', '같다', '이때', '이렇구나', '것과', '같이', '끼익', '삐걱', '따위', '와', '같은', '사람들', '부류의', '사람들', '왜냐하면', '중의하나', '오직', '오로지', '에', '한하다', '하기만', '하면', '도착하다', '까지', '미치다', '도달하다', '정도에', '이르다', '할', '지경이다', '결과에', '이르다', '관해서는', '여러분', '하고', '있다', '한', '후', '혼자', '자기', '자기집', '자신', '우에', '종합한것과같이', '총적으로', '보면', '총적으로', '말하면', '총적으로', '대로', '하다', '으로서', '참', '그만이다', '할', '따름이다', '쿵', '탕탕', '쾅쾅', '둥둥', '봐', '봐라', '아이야', '아니', '와아', '응', '아이', '참나', '년', '월', '일', '령', '영', '일', '이', '삼', '사', '오', '육', '륙', '칠', '팔', '구', '이천육', '이천칠', '이천팔', '이천구', '하나', '둘', '셋', '넷', '다섯', '여섯', '일곱', '여덟', '아홉', '령', '영']\n"
          ]
        }
      ]
    },
    {
      "cell_type": "code",
      "source": [
        "import numpy as np\n",
        "import re\n",
        "\n",
        "\n",
        "def normalize_document(doc):\n",
        "    # lower case and remove special characters\\whitespaces\n",
        "    #doc = re.sub(r'[^a-zA-Z\\s]', '', doc, re.I|re.A)\n",
        "    #doc = doc.lower()\n",
        "    #doc = doc.strip()\n",
        "    # tokenize document\n",
        "    tokens = nltk.word_tokenize(doc)\n",
        "    # filter stopwords out of document\n",
        "    filtered_tokens = [token for token in tokens if token not in stop_words]\n",
        "    # re-create document from filtered tokens\n",
        "    doc = ' '.join(filtered_tokens)\n",
        "    return doc\n",
        "\n",
        "normalize_corpus = np.vectorize(normalize_document)"
      ],
      "metadata": {
        "id": "m5W7QHA1YzdC"
      },
      "execution_count": 198,
      "outputs": []
    },
    {
      "cell_type": "code",
      "source": [
        "norm_sentences = normalize_corpus(sentences)\n",
        "norm_sentences[:3]"
      ],
      "metadata": {
        "colab": {
          "base_uri": "https://localhost:8080/"
        },
        "id": "sNbRCoaPY1Ng",
        "outputId": "eb0eac8c-d55b-493f-e82c-e94dd95fb642"
      },
      "execution_count": 199,
      "outputs": [
        {
          "output_type": "execute_result",
          "data": {
            "text/plain": [
              "array(['조선 시대 중엽 , 전라도 전주 서문 최만춘이라는 퇴직 관리가 아내 조씨와 이십여 년을 살아왔건만 슬하에 자식이 없어 근심하며 기도와 불공도 곤궁한 사람에게 적선도 하였는데 , 그러는 사이에 하늘이 감동하였는지 하루는 부부가 신기한 꿈을 얻고 이내 부인에게 태기가 있었다 .',\n",
              "       '열 달이 차자 갑자기 그윽한 향기가 방 안에 감돌며 문득 옥녀를 낳았으니 , 딸아이의 이름을 콩쥐라 지어 애지중지 길렀다 .',\n",
              "       '모친의 천명이 그만이었던지 조물주의 시기함인지 콩쥐가 태어난 지 겨 백일 만에 조씨 부인이 세상을 하직하게 되니 , 최만춘은 뜻하지 않게 중년에 홀아비 신세가 버렸다 .'],\n",
              "      dtype='<U154')"
            ]
          },
          "metadata": {},
          "execution_count": 199
        }
      ]
    }
  ]
}